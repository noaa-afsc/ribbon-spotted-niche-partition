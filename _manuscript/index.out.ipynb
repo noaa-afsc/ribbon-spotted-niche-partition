{
 "cells": [
  {
   "cell_type": "markdown",
   "metadata": {},
   "source": [
    "# Evidence for ecological niche partitioning among ribbon and spotted\n",
    "\n",
    "seals in the Bering Sea and implications for their resilience to climate change\n",
    "\n",
    "Josh M. London [![](data:image/png;base64,iVBORw0KGgoAAAANSUhEUgAAABAAAAAQCAYAAAAf8/9hAAAAGXRFWHRTb2Z0d2FyZQBBZG9iZSBJbWFnZVJlYWR5ccllPAAAA2ZpVFh0WE1MOmNvbS5hZG9iZS54bXAAAAAAADw/eHBhY2tldCBiZWdpbj0i77u/IiBpZD0iVzVNME1wQ2VoaUh6cmVTek5UY3prYzlkIj8+IDx4OnhtcG1ldGEgeG1sbnM6eD0iYWRvYmU6bnM6bWV0YS8iIHg6eG1wdGs9IkFkb2JlIFhNUCBDb3JlIDUuMC1jMDYwIDYxLjEzNDc3NywgMjAxMC8wMi8xMi0xNzozMjowMCAgICAgICAgIj4gPHJkZjpSREYgeG1sbnM6cmRmPSJodHRwOi8vd3d3LnczLm9yZy8xOTk5LzAyLzIyLXJkZi1zeW50YXgtbnMjIj4gPHJkZjpEZXNjcmlwdGlvbiByZGY6YWJvdXQ9IiIgeG1sbnM6eG1wTU09Imh0dHA6Ly9ucy5hZG9iZS5jb20veGFwLzEuMC9tbS8iIHhtbG5zOnN0UmVmPSJodHRwOi8vbnMuYWRvYmUuY29tL3hhcC8xLjAvc1R5cGUvUmVzb3VyY2VSZWYjIiB4bWxuczp4bXA9Imh0dHA6Ly9ucy5hZG9iZS5jb20veGFwLzEuMC8iIHhtcE1NOk9yaWdpbmFsRG9jdW1lbnRJRD0ieG1wLmRpZDo1N0NEMjA4MDI1MjA2ODExOTk0QzkzNTEzRjZEQTg1NyIgeG1wTU06RG9jdW1lbnRJRD0ieG1wLmRpZDozM0NDOEJGNEZGNTcxMUUxODdBOEVCODg2RjdCQ0QwOSIgeG1wTU06SW5zdGFuY2VJRD0ieG1wLmlpZDozM0NDOEJGM0ZGNTcxMUUxODdBOEVCODg2RjdCQ0QwOSIgeG1wOkNyZWF0b3JUb29sPSJBZG9iZSBQaG90b3Nob3AgQ1M1IE1hY2ludG9zaCI+IDx4bXBNTTpEZXJpdmVkRnJvbSBzdFJlZjppbnN0YW5jZUlEPSJ4bXAuaWlkOkZDN0YxMTc0MDcyMDY4MTE5NUZFRDc5MUM2MUUwNEREIiBzdFJlZjpkb2N1bWVudElEPSJ4bXAuZGlkOjU3Q0QyMDgwMjUyMDY4MTE5OTRDOTM1MTNGNkRBODU3Ii8+IDwvcmRmOkRlc2NyaXB0aW9uPiA8L3JkZjpSREY+IDwveDp4bXBtZXRhPiA8P3hwYWNrZXQgZW5kPSJyIj8+84NovQAAAR1JREFUeNpiZEADy85ZJgCpeCB2QJM6AMQLo4yOL0AWZETSqACk1gOxAQN+cAGIA4EGPQBxmJA0nwdpjjQ8xqArmczw5tMHXAaALDgP1QMxAGqzAAPxQACqh4ER6uf5MBlkm0X4EGayMfMw/Pr7Bd2gRBZogMFBrv01hisv5jLsv9nLAPIOMnjy8RDDyYctyAbFM2EJbRQw+aAWw/LzVgx7b+cwCHKqMhjJFCBLOzAR6+lXX84xnHjYyqAo5IUizkRCwIENQQckGSDGY4TVgAPEaraQr2a4/24bSuoExcJCfAEJihXkWDj3ZAKy9EJGaEo8T0QSxkjSwORsCAuDQCD+QILmD1A9kECEZgxDaEZhICIzGcIyEyOl2RkgwAAhkmC+eAm0TAAAAABJRU5ErkJggg==)](https://orcid.org/0000-0002-3647-5046) (Alaska Fisheries Science Center)  \n",
    "Heather L. Ziel (Alaska Fisheries Science Center)  \n",
    "Lorrie D. Rea (University of Alaska, Fairbanks)  \n",
    "Stacie M. Koslovsky (Alaska Fisheries Science Center)  \n",
    "Michael F. Cameron (Alaska Fisheries Science Center)  \n",
    "Peter L. Boveng (Alaska Fisheries Science Center)  \n",
    "March 26, 2024\n",
    "\n",
    "In deep-diving seals (*Phocidae*) niche partitioning has been observed as delineation in time, multi-dimensional use of the ocean, or diet composition. Here, we focus on two species of seals in the Bering Sea – ribbon seals (*Histriophoca fasciata*) and spotted seals (*Phoca largha*) – and evidence for niche partitioning from two decades of bio-logger deployments (n=110 ribbon; n=82 spotted) and stable isotope sampling (n=29 ribbon; n=43 spotted). Whiskers of dependent pups in the spring reflect the isotopic space of adult female diet in the winter (when the pup was developing in-utero) and sampling from the whisker base of adults in the spring corresponds with the isotopic space of their recent diet. In both seasons, spotted seals had higher mean δ13C (winter: +6.9%; spring: +3.8%) and δ15N (winter: +10.5%; spring = +12.1%) values, which are reflective of on-shelf and coastal foraging at a higher trophic level. Two-dimensional utilization distributions (UD) were estimated from bio-logger geolocations for each species during similar seasonal periods (‘spring’ and ‘fall-winter’). Optimally weighted auto-correlated kernel density estimates were combined into a population UD to test spatial overlap. Greater overlap was observed in the spring when both species rely on the marginal sea-ice zone for pupping, breeding, and molting. More separation was observed during the fall-winter season when spotted seals remained largely on the continental shelf and ribbon seals shifted to the shelf break and Bering Sea basin. Dive behavior records showed ribbon seals consistently diving to deeper depths (max dive depth = ~600m) compared to spotted seals (max dive depth = ~300m) indicating additional partitioning of resources within the water column. Changes in the extent and timing of sea ice in the Bering Sea along with anomalous warming events could disrupt the niche partitioning between these seal species and, thus, challenge their resilience to climate change.\n",
    "\n",
    "<div __quarto_custom=\"true\" __quarto_custom_type=\"Callout\"\n",
    "__quarto_custom_context=\"Block\" __quarto_custom_id=\"1\">\n",
    "\n",
    "<div __quarto_custom_scaffold=\"true\">\n",
    "\n",
    "Under Development. Please do not cite or use\n",
    "\n",
    "</div>\n",
    "\n",
    "<div __quarto_custom_scaffold=\"true\">\n",
    "\n",
    "Please note this analysis and manuscript is still in draft form and under active development. Changes to results, code, and the manuscript are likely and this should not be cited or used for any reason. We are sharing the work and development of this manuscript in the spirit of open science, improved transparency, and scientific reproducibility.\n",
    "\n",
    "We plan to provide a preprint to bioRxiv prior to journal submission.\n",
    "\n",
    "</div>\n",
    "\n",
    "</div>"
   ],
   "id": "cb1490fc-22c6-4d04-ab3f-8f62c4655345"
  },
  {
   "cell_type": "code",
   "execution_count": null,
   "metadata": {},
   "outputs": [
    {
     "output_type": "stream",
     "name": "stderr",
     "text": [
      "\n",
      "Attaching package: 'dplyr'"
     ]
    },
    {
     "output_type": "stream",
     "name": "stderr",
     "text": [
      "The following objects are masked from 'package:stats':\n",
      "\n",
      "    filter, lag"
     ]
    },
    {
     "output_type": "stream",
     "name": "stderr",
     "text": [
      "The following objects are masked from 'package:base':\n",
      "\n",
      "    intersect, setdiff, setequal, union"
     ]
    },
    {
     "output_type": "stream",
     "name": "stderr",
     "text": [
      "\n",
      "Attaching package: 'dbplyr'"
     ]
    },
    {
     "output_type": "stream",
     "name": "stderr",
     "text": [
      "The following objects are masked from 'package:dplyr':\n",
      "\n",
      "    ident, sql"
     ]
    },
    {
     "output_type": "stream",
     "name": "stderr",
     "text": [
      "Linking to GEOS 3.11.0, GDAL 3.5.3, PROJ 9.1.0; sf_use_s2() is TRUE"
     ]
    },
    {
     "output_type": "stream",
     "name": "stderr",
     "text": [
      "\n",
      "Attaching package: 'ctmm'"
     ]
    },
    {
     "output_type": "stream",
     "name": "stderr",
     "text": [
      "The following object is masked from 'package:ggplot2':\n",
      "\n",
      "    annotate"
     ]
    }
   ],
   "source": [
    "library(RPostgres)\n",
    "library(dplyr)"
   ],
   "id": "40ba4b6a-f2f3-4b07-b19c-ce74f0acc21a"
  },
  {
   "cell_type": "markdown",
   "metadata": {},
   "source": [
    "# Introduction\n",
    "\n",
    "-   review definition of niche partitioning;\n",
    "-   review of previous studies (terrestrial/marine) of niche partitioning that relied on evidence from stable isotopes, geo-locations from bio-loggers, OR, for marine animals, dive behavior;\n",
    "-   highlight any studies that used an integrated approach (e.g. stable isotopes and movement). any previous studies that integrated across all three?\n",
    "-   review climate change impacts in the Arctic/Bering Sea and focus in on ribbon and spotted seals\n",
    "-   previously published studies, observations, LTK(?), describing the ecology of ribbon and spotted seals that indicated potential for niche separation\n",
    "-   study objectives:\n",
    "    -   Do stable isotope and bio-logging data from nearly 2 decades of research provide evidence for niche partitioning among ribbon and spotted seals?\n",
    "    -   How might predicted climate change impacts in the Bering Sea affect this established partitioning of resources and will ribbon and spotted seals be resient to such change?\n",
    "\n",
    "# Methods\n",
    "\n",
    "## Stable Isotope Analysis"
   ],
   "id": "d0c01a01-e937-42bc-bc74-e068a4d84433"
  },
  {
   "cell_type": "code",
   "execution_count": null,
   "metadata": {},
   "outputs": [],
   "source": [
    "si_data <- readRDS(here::here('data/si_data.rds'))\n",
    "\n",
    "min_year <- min(si_data$capture_dt) |> lubridate::year()\n",
    "max_year <- max(si_data$capture_dt) |> lubridate::year()\n",
    "\n",
    "n_ribbon_pup_si <- si_data |> \n",
    "  dplyr::filter(common_name == 'Ribbon seal',\n",
    "                age_class %in% c('Pup')) |> \n",
    "  dplyr::distinct(speno) |> nrow()\n",
    "\n",
    "n_spotted_pup_si <- si_data |> \n",
    "  dplyr::filter(common_name == 'Spotted seal',\n",
    "                age_class %in% c('Pup')) |> \n",
    "  dplyr::distinct(speno) |> nrow()\n",
    "\n",
    "n_ribbon_adult_si <- si_data |> \n",
    "  dplyr::filter(common_name == 'Ribbon seal',\n",
    "                !age_class %in% c('Pup','Young of year')) |> \n",
    "  dplyr::distinct(speno) |> nrow()\n",
    "\n",
    "n_spotted_adult_si <- si_data |> \n",
    "  dplyr::filter(common_name == 'Spotted seal',\n",
    "                age_class %in% c('Pup','Young of year')) |> \n",
    "  dplyr::distinct(speno) |> nrow()"
   ],
   "id": "939e60af-c175-4cdd-93cd-bae0e373d83e"
  },
  {
   "cell_type": "markdown",
   "metadata": {},
   "source": [
    "Whiskers, hair, and blood (RBC and Plasma) from ribbon and spotted seals of all age classes were collected in the field as part of larger research efforts studying the ecology and health of ice-associated seals in the Bering Sea. All samples were collected from live seals captured in the spring (April-June) within the marginal ice zone at the southern edge of sea-ice extent.\n",
    "\n",
    "Stable isotope analysis was based on whiskers sampled from all age classes (dependent pup, young of the year, subadult, adult) between 2009 and 2022. For all age classes, samples were taken along the length of the whisker starting at the root. Samples further from the root represent the isotopic space further back in time. Stable isotopes from whiskers of dependent pups in the spring reflect the isotopic space of adult female diets in the winter (when the pup was developing in-utero) and sampling from the whisker base (segment 2) of adults in the spring corresponds with recent isotopic use (when those tissues were generated). Growth rates of whiskers in phocids are not linear and, thus, we can’t attribute a specific segment of the whisker to a specific point in time – except for the base segment near the root. Dependent pups, however, offer a unique opportunity because we know the majority of the whisker was developed in-utero and would represent the adult female’s forgaing during the preceding fall/winter. Once the pup starts nursing, however, the trophic level changes and we can expect segments nearest the root to reflect this. For this analysis we only consider samples from the distant half of the whisker to most closely match the in-utero period. We simply averaged those samples.\n",
    "\n",
    "For comparison of the isotopic space, we used the R package, SIBER."
   ],
   "id": "df0bbb04-7e7d-4566-88f8-143817c5645f"
  },
  {
   "cell_type": "code",
   "execution_count": null,
   "metadata": {},
   "outputs": [],
   "source": [
    "pup_si_data <- si_data |> \n",
    "  dplyr::filter(age_class %in% c('Pup'),\n",
    "         whisker_segment_num > 7) |> \n",
    "  dplyr::summarise(value = mean(result_value),\n",
    "                   .by = c(speno,common_name,capture_dt,\n",
    "                           age_class,sex,result_type)) |> \n",
    "  tidyr::pivot_wider(names_from = result_type, values_from = value) |> \n",
    "  dplyr::select(iso1 = D13C,iso2 = D15N,group = common_name) |>\n",
    "  dplyr::mutate(community = 1) |> \n",
    "  as.data.frame()\n",
    "\n",
    "\n",
    "pup_siber <- SIBER::createSiberObject(pup_si_data)\n",
    "\n",
    "\n",
    "group.ellipses.args  <- list(n = 100, p.interval = 0.95, \n",
    "                             ci.mean = T, lty = 1, lwd = 2)\n",
    "group.hulls.args     <- list(lty = 2, col = \"grey20\")\n",
    "\n",
    "adult_si_data <- si_data |> \n",
    "  dplyr::filter(!age_class %in% c('Pup','Young of year'),\n",
    "                whisker_segment_num == 3) |> \n",
    "  # dplyr::filter(\n",
    "  #   dplyr::case_when(\n",
    "  #   result_type == 'D15N' ~ result_value > 0,\n",
    "  #   .default = TRUE\n",
    "  #     )\n",
    "  # ) |>\n",
    "  dplyr::summarise(value = mean(result_value),\n",
    "                   .by = c(speno,common_name,capture_dt,\n",
    "                           age_class,sex,result_type)) |> \n",
    "  tidyr::pivot_wider(names_from = result_type, values_from = value) |> \n",
    "  dplyr::select(iso1 = D13C,iso2 = D15N,group = common_name) |>\n",
    "  dplyr::mutate(community = 1) |> \n",
    "  as.data.frame()\n",
    "\n",
    "adult_siber <- SIBER::createSiberObject(adult_si_data)\n",
    "\n",
    "group.ellipses.args  <- list(n = 100, p.interval = 0.95,\n",
    "                             ci.mean = T, lty = 1, lwd = 2)\n",
    "group.hulls.args     <- list(lty = 2, col = \"grey20\")"
   ],
   "id": "dd5268ce-32bb-4834-be73-a7ac7778977d"
  },
  {
   "cell_type": "code",
   "execution_count": null,
   "metadata": {},
   "outputs": [],
   "source": [
    "locs_sf <- readRDS(here::here('data/locs_sf.rds')) |> \n",
    "  dplyr::filter(tag_type %in% c('SPLA','SGPS'))\n",
    "\n",
    "N_tags <- locs_sf |> \n",
    "  dplyr::distinct(ptt) |> nrow()\n",
    "N_ribbon <- locs_sf |> \n",
    "  dplyr::filter(species == 'Ribbon seal') |> \n",
    "  dplyr::distinct(speno) |> nrow()\n",
    "N_spotted <- locs_sf |> \n",
    "  dplyr::filter(species == 'Spotted seal') |> \n",
    "  dplyr::distinct(speno) |> nrow()"
   ],
   "id": "afcc43bd-3b3b-4fb8-8aa9-1064a5597b6d"
  },
  {
   "cell_type": "markdown",
   "metadata": {},
   "source": [
    "## Utilization Distributions from Bio-logger Deployments\n",
    "\n",
    "A total of 112 bio-loggers (SPLASH family, Wildlife Computers, Redmond, Washington, USA) were deployed on 67 ribbon seals and 45 spotted seals between 2005 and 2022. The deployments span all age classes with the exception of dependent pups for both species and were deployed during the months of April, May, and June. In some cases, deployments were initiated prior to molting and the bio-loggers fell off after a period of weeks to two months. Deployments initiated after molting transmitted up to ~9 months.\n",
    "\n",
    "All deployments were checked for any data quality issues and inconsistent location estimates before they were run through a course speed filter to remove any locations that would have required a sustained swim speed greater than 15 km/h. Additionally, any deployments with fewer than 30 location estimates or a total deployment length less than 7 days were removed. Lastly, to improve movement model fitting, we thinned the location estimates to remove any time steps less than 10 minutes.\n",
    "\n",
    "Two data sets for each species were created to include only movement in the months of April, May, and June (‘spring’) and October, November, and December (‘open water’). The continuous time movement model used in the analysis is stationary and predicated on a general range limitation to the underlying movement behavior. Both species have known association with the marginal sea-ice zone during the spring months as they focus on pupping, breeding, and molting. The fall/winter months were chosen to match the time duration of the spring period when the Bering Sea is largely ice free. This period also coincides with the season when in-utero development of pups that are sampled for stable isotope analysis in the spring."
   ],
   "id": "76b6c5af-87bb-4fae-80d8-0c8c469e1a3c"
  },
  {
   "cell_type": "code",
   "execution_count": null,
   "metadata": {},
   "outputs": [],
   "source": [
    "filter_tracks <- function(tracks_sf) {\n",
    "  \n",
    "  crs <- sf::st_crs(tracks_sf)\n",
    "  dat <- tracks_sf %>%\n",
    "    sf::st_transform(4326) %>%\n",
    "    ungroup() %>%\n",
    "    arrange(deployid, locs_dt)\n",
    "  dat_tr <- trip::trip(dat, c(\"locs_dt\",\"deployid\"), correct_all = FALSE)\n",
    "  \n",
    "  suppressWarnings(\n",
    "    keep <- trip::sda(\n",
    "      dat_tr,\n",
    "      smax = 15 #km/hour\n",
    "    )\n",
    "  )\n",
    "  \n",
    "  tracks_filt <- dat %>%\n",
    "    mutate(sda_keep = keep) %>%\n",
    "    filter(sda_keep) %>%\n",
    "    dplyr::select(-c(sda_keep, rank)) %>%\n",
    "    st_transform(crs)\n",
    "  return(tracks_filt)\n",
    "}\n",
    "\n",
    "locs_sf <- locs_sf |> \n",
    "  dplyr::filter(tag_type %in% c('SPLA','SGPS'),\n",
    "                quality != 'Z') |> \n",
    "  dplyr::group_by(deployid) |> \n",
    "  dplyr::arrange(deployid,locs_dt) |> \n",
    "  dplyr::filter(n() > 30L) |> \n",
    "  dplyr::filter(difftime(max(locs_dt),min(locs_dt),units = \"days\") > 7) |> \n",
    "  dplyr::ungroup() |> \n",
    "  filter_tracks()\n",
    "\n",
    "locs_sf_spring <- locs_sf |> \n",
    "  dplyr::filter(lubridate::month(locs_dt) %in% c(3,4,5)) |> \n",
    "  dplyr::group_by(deployid) |> \n",
    "  dplyr::arrange(deployid,locs_dt) |> \n",
    "  dplyr::filter(n() > 30L) |> \n",
    "  dplyr::filter(difftime(max(locs_dt),min(locs_dt),units = \"days\") > 7) |> \n",
    "  dplyr::ungroup()\n",
    "\n",
    "locs_sf_open <- locs_sf |> \n",
    "  dplyr::filter(lubridate::month(locs_dt) %in% c(10,11,12)) |> \n",
    "  dplyr::group_by(deployid) |> \n",
    "  dplyr::arrange(deployid,locs_dt) |> \n",
    "  dplyr::filter(n() > 30L) |> \n",
    "  dplyr::filter(difftime(max(locs_dt),min(locs_dt),units = \"days\") > 7) |> \n",
    "  dplyr::ungroup()"
   ],
   "id": "0d58a2b6-409f-4d5f-8276-da9ae28c69a6"
  },
  {
   "cell_type": "markdown",
   "metadata": {},
   "source": [
    "Utilization distributions were estimated for each species and each of the seasonal periods based on a continuous time movement model (R package `ctmm`). Specifically, optimally weighted auto-correlated kernel density estimates (wAKDE) were created to reflect a more honest account of space use while also mitigating sampling bias from irregular deployment lengths. The weighted AKDE utilization distributions were combined into a population kernel density estimate that should better reflect spatial distribution of the broader population beyond just the sampled seals."
   ],
   "id": "8495b699-3b8c-44d6-a962-64016afceebe"
  },
  {
   "cell_type": "code",
   "execution_count": null,
   "metadata": {},
   "outputs": [],
   "source": [
    "thin_tracks <- function(locs_sf) {\n",
    "  dat <- locs_sf |> \n",
    "    dplyr::group_by(deployid) |> \n",
    "    dplyr::arrange(deployid, locs_dt) |> \n",
    "    dplyr::mutate(lag_interval = difftime(locs_dt,dplyr::lag(locs_dt), units = \"secs\"),\n",
    "                  median_interval = stats::median(lag_interval,na.rm=TRUE)) |> \n",
    "    dplyr::filter(is.na(lag_interval) | lag_interval > median_interval/2) |> \n",
    "    dplyr::ungroup()\n",
    "  \n",
    "  return(dat)\n",
    "}"
   ],
   "id": "33c519dc-4be8-43e8-bbb1-ce83b3086ae1"
  },
  {
   "cell_type": "code",
   "execution_count": null,
   "metadata": {},
   "outputs": [],
   "source": [
    "as_telem <- function(locs_sf, out_proj) {\n",
    "  \n",
    "  locs_df <- locs_sf |> \n",
    "    thin_tracks() |> \n",
    "    sfheaders::sf_to_df(fill = TRUE)\n",
    "  # separate fastloc and argos\n",
    "  locs_f <- locs_df |> filter(type %in% c(\"FastGPS\",\"known\",\"User\"))\n",
    "  locs_a <- locs_df |> filter(type == \"Argos\")\n",
    "  rm(locs_df)\n",
    "  \n",
    "  # rename for movebank conventions and convert\n",
    "  locs_a <- locs_a |>\n",
    "    rename(\n",
    "      individual.local.identifier = deployid,\n",
    "      timestamp = locs_dt,\n",
    "      location.long = x,\n",
    "      location.lat = y,\n",
    "      Argos.orientation = error_ellipse_orientation,\n",
    "      Argos.semi.minor = error_semi_minor_axis,\n",
    "      Argos.semi.major = error_semi_major_axis\n",
    "    ) %>% mutate(\n",
    "      Argos.location.class = quality,\n",
    "      quality = as.character(quality)\n",
    "    )\n",
    "  locs_a <- ctmm::as.telemetry(object = locs_a, projection = out_proj)\n",
    "  locs_a <- tibble(deployid=names(locs_a), telem=locs_a)\n",
    "  \n",
    "  if(nrow(locs_f) > 0) {\n",
    "  locs_f <- locs_f |>\n",
    "    rename(\n",
    "      individual.local.identifier = deployid,\n",
    "      timestamp = locs_dt,\n",
    "      location.long = x,\n",
    "      location.lat = y\n",
    "    ) %>% mutate(\n",
    "      HDOP = dplyr::case_when(\n",
    "        type == \"known\" ~ sqrt(2),\n",
    "        type == \"User\" ~ sqrt(2),\n",
    "        type==\"FastGPS\" & quality==\"4\" ~ sqrt(2)*(1163)/20,\n",
    "        type==\"FastGPS\" & quality==\"5\" ~ sqrt(2)*(169)/20,\n",
    "        type==\"FastGPS\" & quality==\"6\" ~ sqrt(2)*(71)/20,\n",
    "        type==\"FastGPS\" & quality==\"7\" ~ sqrt(2)*(43)/20,\n",
    "        type==\"FastGPS\" & quality==\"8\" ~ sqrt(2)*(34)/20,\n",
    "        type==\"FastGPS\" & quality==\"9\" ~ sqrt(2)*(28)/20,\n",
    "        type==\"FastGPS\" & quality==\"10\" ~ sqrt(2)*(24)/20,\n",
    "        type==\"FastGPS\" & quality==\"11\" ~ sqrt(2),\n",
    "        TRUE ~ Inf\n",
    "      ),\n",
    "      quality = as.character(quality)\n",
    "    )\n",
    "  locs_f <- ctmm::as.telemetry(object = locs_f, projection = out_proj)\n",
    "  uere(locs_f) <- 20\n",
    "  if(!class(locs_f) == \"list\") { locs_f <- list(locs_f) }\n",
    "  locs_f <- tibble(deployid=names(locs_f), telem=locs_f)\n",
    "\n",
    "\n",
    "  locs_df <- bind_rows(locs_a, locs_f) |> group_by(deployid) |> nest()\n",
    "  locs_df <- locs_df |> rowwise() |> mutate(\n",
    "    data = list(data$telem |> ctmm::tbind())\n",
    "  )\n",
    "  } else {\n",
    "    locs_df <- locs_a |> \n",
    "      dplyr::rename(data = telem)\n",
    "  }\n",
    "  \n",
    "  names(locs_df$data) <- locs_df$deployid\n",
    "\n",
    "  return(locs_df)\n",
    "}"
   ],
   "id": "9226d552-bff7-4748-9289-d8f9322657a1"
  },
  {
   "cell_type": "code",
   "execution_count": null,
   "metadata": {},
   "outputs": [
    {
     "output_type": "stream",
     "name": "stderr",
     "text": [
      "12634 ARGOS error ellipses missing. Using location class estimates from Vincent et al (2002)."
     ]
    },
    {
     "output_type": "stream",
     "name": "stderr",
     "text": [
      "Minimum sampling interval of 39.6 minutes in HF2005_5880_05L0003"
     ]
    },
    {
     "output_type": "stream",
     "name": "stderr",
     "text": [
      "Minimum sampling interval of 51.5 minutes in HF2005_5882_05L0008"
     ]
    },
    {
     "output_type": "stream",
     "name": "stderr",
     "text": [
      "Minimum sampling interval of 24.3 minutes in HF2005_5884_05L0009"
     ]
    },
    {
     "output_type": "stream",
     "name": "stderr",
     "text": [
      "Minimum sampling interval of 40.4 minutes in HF2005_5890_05L0011"
     ]
    },
    {
     "output_type": "stream",
     "name": "stderr",
     "text": [
      "Minimum sampling interval of 38.1 minutes in HF2005_5892_05L0012"
     ]
    },
    {
     "output_type": "stream",
     "name": "stderr",
     "text": [
      "Minimum sampling interval of 37.2 minutes in HF2005_5894_05L0013"
     ]
    },
    {
     "output_type": "stream",
     "name": "stderr",
     "text": [
      "Minimum sampling interval of 32.8 minutes in HF2005_5896_05L0015"
     ]
    },
    {
     "output_type": "stream",
     "name": "stderr",
     "text": [
      "Minimum sampling interval of 45.1 minutes in HF2005_5898_05L0001"
     ]
    },
    {
     "output_type": "stream",
     "name": "stderr",
     "text": [
      "Minimum sampling interval of 18.3 minutes in HF2006_5978_05L0236"
     ]
    },
    {
     "output_type": "stream",
     "name": "stderr",
     "text": [
      "Minimum sampling interval of 21.8 minutes in HF2006_5982_05L0238"
     ]
    },
    {
     "output_type": "stream",
     "name": "stderr",
     "text": [
      "Minimum sampling interval of 32.6 minutes in HF2006_5989_05L0237"
     ]
    },
    {
     "output_type": "stream",
     "name": "stderr",
     "text": [
      "Minimum sampling interval of 36.6 minutes in HF2007_6048_05L0240"
     ]
    },
    {
     "output_type": "stream",
     "name": "stderr",
     "text": [
      "Minimum sampling interval of 27.3 minutes in HF2007_6066_05L0243"
     ]
    },
    {
     "output_type": "stream",
     "name": "stderr",
     "text": [
      "Minimum sampling interval of 47.5 minutes in HF2007_6068_05L0239"
     ]
    },
    {
     "output_type": "stream",
     "name": "stderr",
     "text": [
      "Minimum sampling interval of 22.5 minutes in HF2007_6075_06L0130"
     ]
    },
    {
     "output_type": "stream",
     "name": "stderr",
     "text": [
      "Minimum sampling interval of 45.5 minutes in HF2007_6089_07L0017"
     ]
    },
    {
     "output_type": "stream",
     "name": "stderr",
     "text": [
      "Minimum sampling interval of 38.2 minutes in HF2007_6102_07L0015"
     ]
    },
    {
     "output_type": "stream",
     "name": "stderr",
     "text": [
      "Minimum sampling interval of 42.5 minutes in HF2007_6109_06A1350"
     ]
    },
    {
     "output_type": "stream",
     "name": "stderr",
     "text": [
      "Minimum sampling interval of 36.7 minutes in HF2007_6110_06L0131"
     ]
    },
    {
     "output_type": "stream",
     "name": "stderr",
     "text": [
      "Minimum sampling interval of 29.3 minutes in HF2009_1009_06L0127"
     ]
    },
    {
     "output_type": "stream",
     "name": "stderr",
     "text": [
      "Minimum sampling interval of 33.6 minutes in HF2009_1016_09L0048"
     ]
    },
    {
     "output_type": "stream",
     "name": "stderr",
     "text": [
      "Minimum sampling interval of 28.8 minutes in HF2009_1017_08L0049"
     ]
    },
    {
     "output_type": "stream",
     "name": "stderr",
     "text": [
      "Minimum sampling interval of 18.4 minutes in HF2009_1018_08L0034"
     ]
    },
    {
     "output_type": "stream",
     "name": "stderr",
     "text": [
      "Minimum sampling interval of 25 minutes in HF2009_1019_09L0040"
     ]
    },
    {
     "output_type": "stream",
     "name": "stderr",
     "text": [
      "Minimum sampling interval of 16.7 minutes in HF2009_1026_09L0028"
     ]
    },
    {
     "output_type": "stream",
     "name": "stderr",
     "text": [
      "Minimum sampling interval of 16.8 minutes in HF2009_2009_08L0051"
     ]
    },
    {
     "output_type": "stream",
     "name": "stderr",
     "text": [
      "Minimum sampling interval of 25.2 minutes in HF2009_2012_09L0047"
     ]
    },
    {
     "output_type": "stream",
     "name": "stderr",
     "text": [
      "Minimum sampling interval of 15.2 minutes in HF2009_2017_09L0050"
     ]
    },
    {
     "output_type": "stream",
     "name": "stderr",
     "text": [
      "Minimum sampling interval of 23.5 minutes in HF2009_2018_09L0042"
     ]
    },
    {
     "output_type": "stream",
     "name": "stderr",
     "text": [
      "Minimum sampling interval of 16.4 minutes in HF2009_2022_09L0044"
     ]
    },
    {
     "output_type": "stream",
     "name": "stderr",
     "text": [
      "Minimum sampling interval of 34 minutes in HF2009_2023_08L0032"
     ]
    },
    {
     "output_type": "stream",
     "name": "stderr",
     "text": [
      "Minimum sampling interval of 22.2 minutes in HF2009_2024_06L0125"
     ]
    },
    {
     "output_type": "stream",
     "name": "stderr",
     "text": [
      "Minimum sampling interval of 30 minutes in HF2009_2025_09L0051"
     ]
    },
    {
     "output_type": "stream",
     "name": "stderr",
     "text": [
      "Minimum sampling interval of 20.6 minutes in HF2009_2026_08L0042"
     ]
    },
    {
     "output_type": "stream",
     "name": "stderr",
     "text": [
      "Minimum sampling interval of 20.1 minutes in HF2009_2027_08L0031"
     ]
    },
    {
     "output_type": "stream",
     "name": "stderr",
     "text": [
      "Minimum sampling interval of 33.1 minutes in HF2009_2028_09L0030"
     ]
    },
    {
     "output_type": "stream",
     "name": "stderr",
     "text": [
      "Minimum sampling interval of 36.5 minutes in HF2009_2029_08L0056"
     ]
    },
    {
     "output_type": "stream",
     "name": "stderr",
     "text": [
      "Minimum sampling interval of 23.6 minutes in HF2009_2030_07L0173"
     ]
    },
    {
     "output_type": "stream",
     "name": "stderr",
     "text": [
      "Minimum sampling interval of 24.4 minutes in HF2009_2035_08L0047"
     ]
    },
    {
     "output_type": "stream",
     "name": "stderr",
     "text": [
      "Minimum sampling interval of 23.3 minutes in HF2009_2037_08L0024"
     ]
    },
    {
     "output_type": "stream",
     "name": "stderr",
     "text": [
      "Minimum sampling interval of 26.3 minutes in HF2009_2041_08L0045"
     ]
    },
    {
     "output_type": "stream",
     "name": "stderr",
     "text": [
      "Minimum sampling interval of 18 minutes in HF2010_1001_08L0048"
     ]
    },
    {
     "output_type": "stream",
     "name": "stderr",
     "text": [
      "Minimum sampling interval of 21.1 minutes in HF2010_1007_06L0129"
     ]
    },
    {
     "output_type": "stream",
     "name": "stderr",
     "text": [
      "Minimum sampling interval of 18.1 minutes in HF2010_1010_08L0036"
     ]
    },
    {
     "output_type": "stream",
     "name": "stderr",
     "text": [
      "Minimum sampling interval of 23 minutes in HF2010_1017_10A0224"
     ]
    },
    {
     "output_type": "stream",
     "name": "stderr",
     "text": [
      "Minimum sampling interval of 20.2 minutes in HF2010_2001_09L0041"
     ]
    },
    {
     "output_type": "stream",
     "name": "stderr",
     "text": [
      "Minimum sampling interval of 21.8 minutes in HF2010_2006_09A0899"
     ]
    },
    {
     "output_type": "stream",
     "name": "stderr",
     "text": [
      "Minimum sampling interval of 23 minutes in HF2010_2007_08L0054"
     ]
    },
    {
     "output_type": "stream",
     "name": "stderr",
     "text": [
      "Minimum sampling interval of 20.8 minutes in HF2010_2009_08L0055"
     ]
    },
    {
     "output_type": "stream",
     "name": "stderr",
     "text": [
      "Minimum sampling interval of 21.6 minutes in HF2010_2015_10A0217"
     ]
    },
    {
     "output_type": "stream",
     "name": "stderr",
     "text": [
      "Minimum sampling interval of 24.3 minutes in HF2010_2023_10A0229"
     ]
    },
    {
     "output_type": "stream",
     "name": "stderr",
     "text": [
      "Minimum sampling interval of 14.1 minutes in HF2014_1001_09A0892"
     ]
    },
    {
     "output_type": "stream",
     "name": "stderr",
     "text": [
      "Minimum sampling interval of 13 minutes in HF2014_1003_10A0551"
     ]
    },
    {
     "output_type": "stream",
     "name": "stderr",
     "text": [
      "Minimum sampling interval of 12.8 minutes in HF2014_1005_10A0228"
     ]
    },
    {
     "output_type": "stream",
     "name": "stderr",
     "text": [
      "Minimum sampling interval of 13.2 minutes in HF2014_1007_10A0234"
     ]
    },
    {
     "output_type": "stream",
     "name": "stderr",
     "text": [
      "Minimum sampling interval of 12.2 minutes in HF2014_1011_10A0550"
     ]
    },
    {
     "output_type": "stream",
     "name": "stderr",
     "text": [
      "Minimum sampling interval of 30 minutes in HF2014_1013_09A0894"
     ]
    },
    {
     "output_type": "stream",
     "name": "stderr",
     "text": [
      "Minimum sampling interval of 13.9 minutes in HF2014_1015_10A0220"
     ]
    },
    {
     "output_type": "stream",
     "name": "stderr",
     "text": [
      "Minimum sampling interval of 11.2 minutes in HF2014_1018_10A0226"
     ]
    },
    {
     "output_type": "stream",
     "name": "stderr",
     "text": [
      "Minimum sampling interval of 17.2 minutes in HF2014_1022_13A0223"
     ]
    },
    {
     "output_type": "stream",
     "name": "stderr",
     "text": [
      "Minimum sampling interval of 13.5 minutes in HF2014_1023_09A0896"
     ]
    },
    {
     "output_type": "stream",
     "name": "stderr",
     "text": [
      "Minimum sampling interval of 16.1 minutes in HF2014_1025_09A0888"
     ]
    },
    {
     "output_type": "stream",
     "name": "stderr",
     "text": [
      "Minimum sampling interval of 16.6 minutes in HF2016_1002_14A0839"
     ]
    },
    {
     "output_type": "stream",
     "name": "stderr",
     "text": [
      "Minimum sampling interval of 18.2 minutes in HF2016_1011_14A0707"
     ]
    },
    {
     "output_type": "stream",
     "name": "stderr",
     "text": [
      "Minimum sampling interval of 19 minutes in HF2016_1018_14A0801"
     ]
    },
    {
     "output_type": "stream",
     "name": "stderr",
     "text": [
      "Minimum sampling interval of 15.2 minutes in HF2016_1019_14A0862"
     ]
    },
    {
     "output_type": "stream",
     "name": "stderr",
     "text": [
      "Minimum sampling interval of 12 minutes in HF2022_1005_19U3070"
     ]
    },
    {
     "output_type": "stream",
     "name": "stderr",
     "text": [
      "Minimum sampling interval of 20 minutes in PL2005_5966_05L0002"
     ]
    },
    {
     "output_type": "stream",
     "name": "stderr",
     "text": [
      "Minimum sampling interval of 17.1 minutes in PL2005_5967_05L0026"
     ]
    },
    {
     "output_type": "stream",
     "name": "stderr",
     "text": [
      "Minimum sampling interval of 20 minutes in PL2005_5968_05L0005"
     ]
    },
    {
     "output_type": "stream",
     "name": "stderr",
     "text": [
      "Minimum sampling interval of 21.2 minutes in PL2005_5969_04L0021"
     ]
    },
    {
     "output_type": "stream",
     "name": "stderr",
     "text": [
      "Minimum sampling interval of 36.3 minutes in PL2005_5971_05L0017"
     ]
    },
    {
     "output_type": "stream",
     "name": "stderr",
     "text": [
      "Minimum sampling interval of 49.3 minutes in PL2006_5976_05L0245"
     ]
    },
    {
     "output_type": "stream",
     "name": "stderr",
     "text": [
      "Minimum sampling interval of 26.8 minutes in PL2006_5990_05L0244"
     ]
    },
    {
     "output_type": "stream",
     "name": "stderr",
     "text": [
      "Minimum sampling interval of 34.6 minutes in PL2007_6040_07L0019"
     ]
    },
    {
     "output_type": "stream",
     "name": "stderr",
     "text": [
      "Minimum sampling interval of 1.26 hours in PL2007_6042_07L0016"
     ]
    },
    {
     "output_type": "stream",
     "name": "stderr",
     "text": [
      "Minimum sampling interval of 15.6 minutes in PL2009_1020_09L0043"
     ]
    },
    {
     "output_type": "stream",
     "name": "stderr",
     "text": [
      "Minimum sampling interval of 15.5 minutes in PL2009_1025_09L0045"
     ]
    },
    {
     "output_type": "stream",
     "name": "stderr",
     "text": [
      "Minimum sampling interval of 24 minutes in PL2009_2002_06L0124"
     ]
    },
    {
     "output_type": "stream",
     "name": "stderr",
     "text": [
      "Minimum sampling interval of 13.4 minutes in PL2009_2003_08L0035"
     ]
    },
    {
     "output_type": "stream",
     "name": "stderr",
     "text": [
      "Minimum sampling interval of 16.6 minutes in PL2009_2004_08L0033"
     ]
    },
    {
     "output_type": "stream",
     "name": "stderr",
     "text": [
      "Minimum sampling interval of 18.2 minutes in PL2009_2005_06L0126"
     ]
    },
    {
     "output_type": "stream",
     "name": "stderr",
     "text": [
      "Minimum sampling interval of 17.9 minutes in PL2009_2006_08L0046"
     ]
    },
    {
     "output_type": "stream",
     "name": "stderr",
     "text": [
      "Minimum sampling interval of 15.8 minutes in PL2009_2016_08L0039"
     ]
    },
    {
     "output_type": "stream",
     "name": "stderr",
     "text": [
      "Minimum sampling interval of 18 minutes in PL2009_2019_08L0050"
     ]
    },
    {
     "output_type": "stream",
     "name": "stderr",
     "text": [
      "Minimum sampling interval of 21.5 minutes in PL2009_2020_08L0030"
     ]
    },
    {
     "output_type": "stream",
     "name": "stderr",
     "text": [
      "Minimum sampling interval of 21.8 minutes in PL2009_2033_07L0013"
     ]
    },
    {
     "output_type": "stream",
     "name": "stderr",
     "text": [
      "Minimum sampling interval of 13 minutes in PL2009_2034_08L0028"
     ]
    },
    {
     "output_type": "stream",
     "name": "stderr",
     "text": [
      "Minimum sampling interval of 13.5 minutes in PL2009_2038_08L0053"
     ]
    },
    {
     "output_type": "stream",
     "name": "stderr",
     "text": [
      "Minimum sampling interval of 19 minutes in PL2009_2039_08L0040"
     ]
    },
    {
     "output_type": "stream",
     "name": "stderr",
     "text": [
      "Minimum sampling interval of 13.6 minutes in PL2010_1002_08L0029"
     ]
    },
    {
     "output_type": "stream",
     "name": "stderr",
     "text": [
      "Minimum sampling interval of 12.7 minutes in PL2010_1003_08L0128"
     ]
    },
    {
     "output_type": "stream",
     "name": "stderr",
     "text": [
      "Minimum sampling interval of 11.5 minutes in PL2010_2002_08L0052"
     ]
    },
    {
     "output_type": "stream",
     "name": "stderr",
     "text": [
      "Minimum sampling interval of 13.5 minutes in PL2010_2004_08L0044"
     ]
    },
    {
     "output_type": "stream",
     "name": "stderr",
     "text": [
      "Minimum sampling interval of 12.2 minutes in PL2010_2005_08L0026"
     ]
    },
    {
     "output_type": "stream",
     "name": "stderr",
     "text": [
      "Minimum sampling interval of 13 minutes in PL2010_2021_10A0192"
     ]
    },
    {
     "output_type": "stream",
     "name": "stderr",
     "text": [
      "Minimum sampling interval of 13.9 minutes in PL2014_1017_10A0554"
     ]
    },
    {
     "output_type": "stream",
     "name": "stderr",
     "text": [
      "Minimum sampling interval of 14.2 minutes in PL2014_1019_10A0201"
     ]
    },
    {
     "output_type": "stream",
     "name": "stderr",
     "text": [
      "Minimum sampling interval of 13 minutes in PL2014_1020_10A0195"
     ]
    },
    {
     "output_type": "stream",
     "name": "stderr",
     "text": [
      "Minimum sampling interval of 13.4 minutes in PL2014_1027_10A0598"
     ]
    },
    {
     "output_type": "stream",
     "name": "stderr",
     "text": [
      "Minimum sampling interval of 10.2 minutes in PL2014_1028_10A0196"
     ]
    },
    {
     "output_type": "stream",
     "name": "stderr",
     "text": [
      "Minimum sampling interval of 14 minutes in PL2016_1001_14A0844"
     ]
    },
    {
     "output_type": "stream",
     "name": "stderr",
     "text": [
      "Minimum sampling interval of 11.4 minutes in PL2016_1003_14A0797"
     ]
    },
    {
     "output_type": "stream",
     "name": "stderr",
     "text": [
      "Minimum sampling interval of 18.3 minutes in PL2016_1004_14A0847"
     ]
    },
    {
     "output_type": "stream",
     "name": "stderr",
     "text": [
      "Minimum sampling interval of 15.3 minutes in PL2016_1007_14A0824"
     ]
    },
    {
     "output_type": "stream",
     "name": "stderr",
     "text": [
      "Minimum sampling interval of 15.4 minutes in PL2016_1016_14A0832"
     ]
    },
    {
     "output_type": "stream",
     "name": "stderr",
     "text": [
      "Minimum sampling interval of 14.2 minutes in PL2016_1021_14A0781"
     ]
    },
    {
     "output_type": "stream",
     "name": "stderr",
     "text": [
      "Minimum sampling interval of 17.5 minutes in PL2018_1002_17A0776"
     ]
    },
    {
     "output_type": "stream",
     "name": "stderr",
     "text": [
      "Minimum sampling interval of 15.9 minutes in PL2018_1009_17A0775"
     ]
    },
    {
     "output_type": "stream",
     "name": "stderr",
     "text": [
      "Minimum sampling interval of 13.4 minutes in PL2018_1016_17A0780"
     ]
    },
    {
     "output_type": "stream",
     "name": "stderr",
     "text": [
      "Minimum sampling interval of 13.8 minutes in PL2018_1022_17A0976"
     ]
    },
    {
     "output_type": "stream",
     "name": "stderr",
     "text": [
      "Minimum sampling interval of 11.2 minutes in PL2018_1027_17A0767"
     ]
    },
    {
     "output_type": "stream",
     "name": "stderr",
     "text": [
      "Minimum sampling interval of 2 hours in HF2007_6109_06A1350"
     ]
    },
    {
     "output_type": "stream",
     "name": "stderr",
     "text": [
      "Minimum sampling interval of 2.64 hours in HF2022_1005_19U3070"
     ]
    },
    {
     "output_type": "stream",
     "name": "stderr",
     "text": [
      "Minimum sampling interval of 3.99 hours in PL2018_1016_17A0780"
     ]
    },
    {
     "output_type": "stream",
     "name": "stderr",
     "text": [
      "Minimum sampling interval of 3.99 hours in PL2018_1027_17A0767"
     ]
    },
    {
     "output_type": "stream",
     "name": "stderr",
     "text": [
      "1945 ARGOS error ellipses missing. Using location class estimates from Vincent et al (2002)."
     ]
    },
    {
     "output_type": "stream",
     "name": "stderr",
     "text": [
      "Minimum sampling interval of 25.6 minutes in PL2005_5966_05L0002"
     ]
    },
    {
     "output_type": "stream",
     "name": "stderr",
     "text": [
      "Minimum sampling interval of 25.8 minutes in PL2005_5969_04L0021"
     ]
    },
    {
     "output_type": "stream",
     "name": "stderr",
     "text": [
      "Minimum sampling interval of 48.8 minutes in PL2005_5971_05L0017"
     ]
    },
    {
     "output_type": "stream",
     "name": "stderr",
     "text": [
      "Minimum sampling interval of 49.3 minutes in PL2006_5976_05L0245"
     ]
    },
    {
     "output_type": "stream",
     "name": "stderr",
     "text": [
      "Minimum sampling interval of 25.6 minutes in PL2006_5990_05L0244"
     ]
    },
    {
     "output_type": "stream",
     "name": "stderr",
     "text": [
      "Minimum sampling interval of 34.5 minutes in PL2007_6040_07L0019"
     ]
    },
    {
     "output_type": "stream",
     "name": "stderr",
     "text": [
      "Minimum sampling interval of 1.74 hours in PL2007_6042_07L0016"
     ]
    },
    {
     "output_type": "stream",
     "name": "stderr",
     "text": [
      "Minimum sampling interval of 22.7 minutes in PL2009_1025_09L0045"
     ]
    },
    {
     "output_type": "stream",
     "name": "stderr",
     "text": [
      "Minimum sampling interval of 27 minutes in PL2009_2002_06L0124"
     ]
    },
    {
     "output_type": "stream",
     "name": "stderr",
     "text": [
      "Minimum sampling interval of 10.7 minutes in PL2009_2003_08L0035"
     ]
    },
    {
     "output_type": "stream",
     "name": "stderr",
     "text": [
      "Minimum sampling interval of 15.9 minutes in PL2009_2004_08L0033"
     ]
    },
    {
     "output_type": "stream",
     "name": "stderr",
     "text": [
      "Minimum sampling interval of 11.5 minutes in PL2009_2005_06L0126"
     ]
    },
    {
     "output_type": "stream",
     "name": "stderr",
     "text": [
      "Minimum sampling interval of 17.6 minutes in PL2009_2006_08L0046"
     ]
    },
    {
     "output_type": "stream",
     "name": "stderr",
     "text": [
      "Minimum sampling interval of 20.1 minutes in PL2009_2033_07L0013"
     ]
    },
    {
     "output_type": "stream",
     "name": "stderr",
     "text": [
      "Minimum sampling interval of 21.8 minutes in PL2009_2038_08L0053"
     ]
    },
    {
     "output_type": "stream",
     "name": "stderr",
     "text": [
      "Minimum sampling interval of 14.4 minutes in PL2010_1002_08L0029"
     ]
    },
    {
     "output_type": "stream",
     "name": "stderr",
     "text": [
      "Minimum sampling interval of 13.2 minutes in PL2010_1003_08L0128"
     ]
    },
    {
     "output_type": "stream",
     "name": "stderr",
     "text": [
      "Minimum sampling interval of 12.9 minutes in PL2010_2002_08L0052"
     ]
    },
    {
     "output_type": "stream",
     "name": "stderr",
     "text": [
      "Minimum sampling interval of 13.4 minutes in PL2010_2004_08L0044"
     ]
    },
    {
     "output_type": "stream",
     "name": "stderr",
     "text": [
      "Minimum sampling interval of 14.1 minutes in PL2010_2005_08L0026"
     ]
    },
    {
     "output_type": "stream",
     "name": "stderr",
     "text": [
      "Minimum sampling interval of 13 minutes in PL2010_2021_10A0192"
     ]
    },
    {
     "output_type": "stream",
     "name": "stderr",
     "text": [
      "Minimum sampling interval of 13.8 minutes in PL2014_1017_10A0554"
     ]
    },
    {
     "output_type": "stream",
     "name": "stderr",
     "text": [
      "Minimum sampling interval of 13.2 minutes in PL2014_1019_10A0201"
     ]
    },
    {
     "output_type": "stream",
     "name": "stderr",
     "text": [
      "Minimum sampling interval of 10.4 minutes in PL2014_1020_10A0195"
     ]
    },
    {
     "output_type": "stream",
     "name": "stderr",
     "text": [
      "Minimum sampling interval of 11.7 minutes in PL2014_1027_10A0598"
     ]
    },
    {
     "output_type": "stream",
     "name": "stderr",
     "text": [
      "Minimum sampling interval of 10.1 minutes in PL2014_1028_10A0196"
     ]
    },
    {
     "output_type": "stream",
     "name": "stderr",
     "text": [
      "Minimum sampling interval of 14 minutes in PL2016_1001_14A0844"
     ]
    },
    {
     "output_type": "stream",
     "name": "stderr",
     "text": [
      "Minimum sampling interval of 11.4 minutes in PL2016_1003_14A0797"
     ]
    },
    {
     "output_type": "stream",
     "name": "stderr",
     "text": [
      "Minimum sampling interval of 18.3 minutes in PL2016_1004_14A0847"
     ]
    },
    {
     "output_type": "stream",
     "name": "stderr",
     "text": [
      "Minimum sampling interval of 15.3 minutes in PL2016_1007_14A0824"
     ]
    },
    {
     "output_type": "stream",
     "name": "stderr",
     "text": [
      "Minimum sampling interval of 15.4 minutes in PL2016_1016_14A0832"
     ]
    },
    {
     "output_type": "stream",
     "name": "stderr",
     "text": [
      "Minimum sampling interval of 14.2 minutes in PL2016_1021_14A0781"
     ]
    },
    {
     "output_type": "stream",
     "name": "stderr",
     "text": [
      "Minimum sampling interval of 17.5 minutes in PL2018_1002_17A0776"
     ]
    },
    {
     "output_type": "stream",
     "name": "stderr",
     "text": [
      "Minimum sampling interval of 15.9 minutes in PL2018_1009_17A0775"
     ]
    },
    {
     "output_type": "stream",
     "name": "stderr",
     "text": [
      "Minimum sampling interval of 13.4 minutes in PL2018_1016_17A0780"
     ]
    },
    {
     "output_type": "stream",
     "name": "stderr",
     "text": [
      "Minimum sampling interval of 13.8 minutes in PL2018_1022_17A0976"
     ]
    },
    {
     "output_type": "stream",
     "name": "stderr",
     "text": [
      "Minimum sampling interval of 11.4 minutes in PL2018_1027_17A0767"
     ]
    },
    {
     "output_type": "stream",
     "name": "stderr",
     "text": [
      "Minimum sampling interval of 3.99 hours in PL2018_1016_17A0780"
     ]
    },
    {
     "output_type": "stream",
     "name": "stderr",
     "text": [
      "Minimum sampling interval of 3.99 hours in PL2018_1027_17A0767"
     ]
    },
    {
     "output_type": "stream",
     "name": "stderr",
     "text": [
      "4293 ARGOS error ellipses missing. Using location class estimates from Vincent et al (2002)."
     ]
    },
    {
     "output_type": "stream",
     "name": "stderr",
     "text": [
      "Minimum sampling interval of 15.7 minutes in PL2005_5966_05L0002"
     ]
    },
    {
     "output_type": "stream",
     "name": "stderr",
     "text": [
      "Minimum sampling interval of 17.4 minutes in PL2005_5967_05L0026"
     ]
    },
    {
     "output_type": "stream",
     "name": "stderr",
     "text": [
      "Minimum sampling interval of 20 minutes in PL2005_5968_05L0005"
     ]
    },
    {
     "output_type": "stream",
     "name": "stderr",
     "text": [
      "Minimum sampling interval of 32.5 minutes in PL2005_5971_05L0017"
     ]
    },
    {
     "output_type": "stream",
     "name": "stderr",
     "text": [
      "Minimum sampling interval of 30.2 minutes in PL2007_6040_07L0019"
     ]
    },
    {
     "output_type": "stream",
     "name": "stderr",
     "text": [
      "Minimum sampling interval of 13.4 minutes in PL2009_1020_09L0043"
     ]
    },
    {
     "output_type": "stream",
     "name": "stderr",
     "text": [
      "Minimum sampling interval of 12.8 minutes in PL2009_1025_09L0045"
     ]
    },
    {
     "output_type": "stream",
     "name": "stderr",
     "text": [
      "Minimum sampling interval of 12.4 minutes in PL2009_2003_08L0035"
     ]
    },
    {
     "output_type": "stream",
     "name": "stderr",
     "text": [
      "Minimum sampling interval of 15.4 minutes in PL2009_2005_06L0126"
     ]
    },
    {
     "output_type": "stream",
     "name": "stderr",
     "text": [
      "Minimum sampling interval of 15.7 minutes in PL2009_2006_08L0046"
     ]
    },
    {
     "output_type": "stream",
     "name": "stderr",
     "text": [
      "Minimum sampling interval of 19.9 minutes in PL2009_2020_08L0030"
     ]
    },
    {
     "output_type": "stream",
     "name": "stderr",
     "text": [
      "Minimum sampling interval of 22.5 minutes in PL2009_2033_07L0013"
     ]
    },
    {
     "output_type": "stream",
     "name": "stderr",
     "text": [
      "Minimum sampling interval of 12.8 minutes in PL2009_2034_08L0028"
     ]
    },
    {
     "output_type": "stream",
     "name": "stderr",
     "text": [
      "Minimum sampling interval of 12.6 minutes in PL2009_2038_08L0053"
     ]
    },
    {
     "output_type": "stream",
     "name": "stderr",
     "text": [
      "Minimum sampling interval of 13.9 minutes in PL2010_1002_08L0029"
     ]
    },
    {
     "output_type": "stream",
     "name": "stderr",
     "text": [
      "Minimum sampling interval of 11.9 minutes in PL2010_1003_08L0128"
     ]
    },
    {
     "output_type": "stream",
     "name": "stderr",
     "text": [
      "Minimum sampling interval of 13.7 minutes in PL2010_2004_08L0044"
     ]
    },
    {
     "output_type": "stream",
     "name": "stderr",
     "text": [
      "Minimum sampling interval of 12.3 minutes in PL2010_2005_08L0026"
     ]
    },
    {
     "output_type": "stream",
     "name": "stderr",
     "text": [
      "Minimum sampling interval of 13.8 minutes in PL2010_2021_10A0192"
     ]
    },
    {
     "output_type": "stream",
     "name": "stderr",
     "text": [
      "Minimum sampling interval of 13 minutes in PL2014_1017_10A0554"
     ]
    },
    {
     "output_type": "stream",
     "name": "stderr",
     "text": [
      "Minimum sampling interval of 18.4 minutes in PL2014_1019_10A0201"
     ]
    },
    {
     "output_type": "stream",
     "name": "stderr",
     "text": [
      "Minimum sampling interval of 13.3 minutes in PL2014_1027_10A0598"
     ]
    },
    {
     "output_type": "stream",
     "name": "stderr",
     "text": [
      "1202 ARGOS error ellipses missing. Using location class estimates from Vincent et al (2002)."
     ]
    },
    {
     "output_type": "stream",
     "name": "stderr",
     "text": [
      "Minimum sampling interval of 24.2 minutes in HF2005_5880_05L0003"
     ]
    },
    {
     "output_type": "stream",
     "name": "stderr",
     "text": [
      "Minimum sampling interval of 35.6 minutes in HF2005_5882_05L0008"
     ]
    },
    {
     "output_type": "stream",
     "name": "stderr",
     "text": [
      "Minimum sampling interval of 19.6 minutes in HF2005_5890_05L0011"
     ]
    },
    {
     "output_type": "stream",
     "name": "stderr",
     "text": [
      "Minimum sampling interval of 22 minutes in HF2005_5896_05L0015"
     ]
    },
    {
     "output_type": "stream",
     "name": "stderr",
     "text": [
      "Minimum sampling interval of 36.5 minutes in HF2005_5898_05L0001"
     ]
    },
    {
     "output_type": "stream",
     "name": "stderr",
     "text": [
      "Minimum sampling interval of 24.9 minutes in HF2006_5978_05L0236"
     ]
    },
    {
     "output_type": "stream",
     "name": "stderr",
     "text": [
      "Minimum sampling interval of 21.8 minutes in HF2006_5982_05L0238"
     ]
    },
    {
     "output_type": "stream",
     "name": "stderr",
     "text": [
      "Minimum sampling interval of 32.6 minutes in HF2006_5989_05L0237"
     ]
    },
    {
     "output_type": "stream",
     "name": "stderr",
     "text": [
      "Minimum sampling interval of 41.8 minutes in HF2007_6048_05L0240"
     ]
    },
    {
     "output_type": "stream",
     "name": "stderr",
     "text": [
      "Minimum sampling interval of 44.8 minutes in HF2007_6066_05L0243"
     ]
    },
    {
     "output_type": "stream",
     "name": "stderr",
     "text": [
      "Minimum sampling interval of 40 minutes in HF2007_6068_05L0239"
     ]
    },
    {
     "output_type": "stream",
     "name": "stderr",
     "text": [
      "Minimum sampling interval of 23.2 minutes in HF2007_6075_06L0130"
     ]
    },
    {
     "output_type": "stream",
     "name": "stderr",
     "text": [
      "Minimum sampling interval of 28.8 minutes in HF2007_6089_07L0017"
     ]
    },
    {
     "output_type": "stream",
     "name": "stderr",
     "text": [
      "Minimum sampling interval of 1.1 hours in HF2007_6109_06A1350"
     ]
    },
    {
     "output_type": "stream",
     "name": "stderr",
     "text": [
      "Minimum sampling interval of 26.4 minutes in HF2009_1019_09L0040"
     ]
    },
    {
     "output_type": "stream",
     "name": "stderr",
     "text": [
      "Minimum sampling interval of 9.63 minutes in HF2009_2009_08L0051"
     ]
    },
    {
     "output_type": "stream",
     "name": "stderr",
     "text": [
      "Minimum sampling interval of 20.8 minutes in HF2009_2012_09L0047"
     ]
    },
    {
     "output_type": "stream",
     "name": "stderr",
     "text": [
      "Minimum sampling interval of 17.8 minutes in HF2009_2018_09L0042"
     ]
    },
    {
     "output_type": "stream",
     "name": "stderr",
     "text": [
      "Minimum sampling interval of 15.2 minutes in HF2009_2022_09L0044"
     ]
    },
    {
     "output_type": "stream",
     "name": "stderr",
     "text": [
      "Minimum sampling interval of 32.5 minutes in HF2009_2029_08L0056"
     ]
    },
    {
     "output_type": "stream",
     "name": "stderr",
     "text": [
      "Minimum sampling interval of 18 minutes in HF2010_1001_08L0048"
     ]
    },
    {
     "output_type": "stream",
     "name": "stderr",
     "text": [
      "Minimum sampling interval of 21.1 minutes in HF2010_1007_06L0129"
     ]
    },
    {
     "output_type": "stream",
     "name": "stderr",
     "text": [
      "Minimum sampling interval of 17.2 minutes in HF2010_1010_08L0036"
     ]
    },
    {
     "output_type": "stream",
     "name": "stderr",
     "text": [
      "Minimum sampling interval of 25.1 minutes in HF2010_1017_10A0224"
     ]
    },
    {
     "output_type": "stream",
     "name": "stderr",
     "text": [
      "Minimum sampling interval of 20.2 minutes in HF2010_2001_09L0041"
     ]
    },
    {
     "output_type": "stream",
     "name": "stderr",
     "text": [
      "Minimum sampling interval of 18.3 minutes in HF2010_2006_09A0899"
     ]
    },
    {
     "output_type": "stream",
     "name": "stderr",
     "text": [
      "Minimum sampling interval of 22 minutes in HF2010_2007_08L0054"
     ]
    },
    {
     "output_type": "stream",
     "name": "stderr",
     "text": [
      "Minimum sampling interval of 16.3 minutes in HF2010_2009_08L0055"
     ]
    },
    {
     "output_type": "stream",
     "name": "stderr",
     "text": [
      "Minimum sampling interval of 15.8 minutes in HF2010_2015_10A0217"
     ]
    },
    {
     "output_type": "stream",
     "name": "stderr",
     "text": [
      "Minimum sampling interval of 16.5 minutes in HF2010_2023_10A0229"
     ]
    },
    {
     "output_type": "stream",
     "name": "stderr",
     "text": [
      "Minimum sampling interval of 14.1 minutes in HF2014_1001_09A0892"
     ]
    },
    {
     "output_type": "stream",
     "name": "stderr",
     "text": [
      "Minimum sampling interval of 13 minutes in HF2014_1003_10A0551"
     ]
    },
    {
     "output_type": "stream",
     "name": "stderr",
     "text": [
      "Minimum sampling interval of 12.8 minutes in HF2014_1005_10A0228"
     ]
    },
    {
     "output_type": "stream",
     "name": "stderr",
     "text": [
      "Minimum sampling interval of 13.2 minutes in HF2014_1007_10A0234"
     ]
    },
    {
     "output_type": "stream",
     "name": "stderr",
     "text": [
      "Minimum sampling interval of 12.2 minutes in HF2014_1011_10A0550"
     ]
    },
    {
     "output_type": "stream",
     "name": "stderr",
     "text": [
      "Minimum sampling interval of 30 minutes in HF2014_1013_09A0894"
     ]
    },
    {
     "output_type": "stream",
     "name": "stderr",
     "text": [
      "Minimum sampling interval of 13.9 minutes in HF2014_1015_10A0220"
     ]
    },
    {
     "output_type": "stream",
     "name": "stderr",
     "text": [
      "Minimum sampling interval of 11.2 minutes in HF2014_1018_10A0226"
     ]
    },
    {
     "output_type": "stream",
     "name": "stderr",
     "text": [
      "Minimum sampling interval of 15.6 minutes in HF2014_1022_13A0223"
     ]
    },
    {
     "output_type": "stream",
     "name": "stderr",
     "text": [
      "Minimum sampling interval of 13.5 minutes in HF2014_1023_09A0896"
     ]
    },
    {
     "output_type": "stream",
     "name": "stderr",
     "text": [
      "Minimum sampling interval of 16.1 minutes in HF2014_1025_09A0888"
     ]
    },
    {
     "output_type": "stream",
     "name": "stderr",
     "text": [
      "Minimum sampling interval of 16.6 minutes in HF2016_1002_14A0839"
     ]
    },
    {
     "output_type": "stream",
     "name": "stderr",
     "text": [
      "Minimum sampling interval of 18.2 minutes in HF2016_1011_14A0707"
     ]
    },
    {
     "output_type": "stream",
     "name": "stderr",
     "text": [
      "Minimum sampling interval of 19 minutes in HF2016_1018_14A0801"
     ]
    },
    {
     "output_type": "stream",
     "name": "stderr",
     "text": [
      "Minimum sampling interval of 15.2 minutes in HF2016_1019_14A0862"
     ]
    },
    {
     "output_type": "stream",
     "name": "stderr",
     "text": [
      "Minimum sampling interval of 2 hours in HF2007_6109_06A1350"
     ]
    },
    {
     "output_type": "stream",
     "name": "stderr",
     "text": [
      "1153 ARGOS error ellipses missing. Using location class estimates from Vincent et al (2002)."
     ]
    },
    {
     "output_type": "stream",
     "name": "stderr",
     "text": [
      "Minimum sampling interval of 51.5 minutes in HF2005_5882_05L0008"
     ]
    },
    {
     "output_type": "stream",
     "name": "stderr",
     "text": [
      "Minimum sampling interval of 25.1 minutes in HF2005_5884_05L0009"
     ]
    },
    {
     "output_type": "stream",
     "name": "stderr",
     "text": [
      "Minimum sampling interval of 49.8 minutes in HF2005_5890_05L0011"
     ]
    },
    {
     "output_type": "stream",
     "name": "stderr",
     "text": [
      "Minimum sampling interval of 38.5 minutes in HF2005_5892_05L0012"
     ]
    },
    {
     "output_type": "stream",
     "name": "stderr",
     "text": [
      "Minimum sampling interval of 28.9 minutes in HF2005_5896_05L0015"
     ]
    },
    {
     "output_type": "stream",
     "name": "stderr",
     "text": [
      "Minimum sampling interval of 1.61 hours in HF2005_5898_05L0001"
     ]
    },
    {
     "output_type": "stream",
     "name": "stderr",
     "text": [
      "Minimum sampling interval of 29.2 minutes in HF2007_6048_05L0240"
     ]
    },
    {
     "output_type": "stream",
     "name": "stderr",
     "text": [
      "Minimum sampling interval of 18.2 minutes in HF2007_6066_05L0243"
     ]
    },
    {
     "output_type": "stream",
     "name": "stderr",
     "text": [
      "Minimum sampling interval of 1.09 hours in HF2007_6068_05L0239"
     ]
    },
    {
     "output_type": "stream",
     "name": "stderr",
     "text": [
      "Minimum sampling interval of 54.8 minutes in HF2007_6089_07L0017"
     ]
    },
    {
     "output_type": "stream",
     "name": "stderr",
     "text": [
      "Minimum sampling interval of 23.4 minutes in HF2007_6109_06A1350"
     ]
    },
    {
     "output_type": "stream",
     "name": "stderr",
     "text": [
      "Minimum sampling interval of 29.3 minutes in HF2009_1009_06L0127"
     ]
    },
    {
     "output_type": "stream",
     "name": "stderr",
     "text": [
      "Minimum sampling interval of 23.5 minutes in HF2009_1016_09L0048"
     ]
    },
    {
     "output_type": "stream",
     "name": "stderr",
     "text": [
      "Minimum sampling interval of 21.3 minutes in HF2009_1018_08L0034"
     ]
    },
    {
     "output_type": "stream",
     "name": "stderr",
     "text": [
      "Minimum sampling interval of 21 minutes in HF2009_1019_09L0040"
     ]
    },
    {
     "output_type": "stream",
     "name": "stderr",
     "text": [
      "Minimum sampling interval of 14.6 minutes in HF2009_1026_09L0028"
     ]
    },
    {
     "output_type": "stream",
     "name": "stderr",
     "text": [
      "Minimum sampling interval of 24.8 minutes in HF2009_2009_08L0051"
     ]
    },
    {
     "output_type": "stream",
     "name": "stderr",
     "text": [
      "Minimum sampling interval of 28.1 minutes in HF2009_2012_09L0047"
     ]
    },
    {
     "output_type": "stream",
     "name": "stderr",
     "text": [
      "Minimum sampling interval of 40.2 minutes in HF2009_2018_09L0042"
     ]
    },
    {
     "output_type": "stream",
     "name": "stderr",
     "text": [
      "Minimum sampling interval of 21.8 minutes in HF2009_2025_09L0051"
     ]
    },
    {
     "output_type": "stream",
     "name": "stderr",
     "text": [
      "Minimum sampling interval of 21.6 minutes in HF2009_2026_08L0042"
     ]
    },
    {
     "output_type": "stream",
     "name": "stderr",
     "text": [
      "Minimum sampling interval of 30.3 minutes in HF2009_2028_09L0030"
     ]
    },
    {
     "output_type": "stream",
     "name": "stderr",
     "text": [
      "Minimum sampling interval of 31.9 minutes in HF2009_2029_08L0056"
     ]
    },
    {
     "output_type": "stream",
     "name": "stderr",
     "text": [
      "Minimum sampling interval of 27.7 minutes in HF2009_2030_07L0173"
     ]
    },
    {
     "output_type": "stream",
     "name": "stderr",
     "text": [
      "Minimum sampling interval of 20.6 minutes in HF2009_2035_08L0047"
     ]
    },
    {
     "output_type": "stream",
     "name": "stderr",
     "text": [
      "Minimum sampling interval of 20.9 minutes in HF2009_2041_08L0045"
     ]
    },
    {
     "output_type": "stream",
     "name": "stderr",
     "text": [
      "Minimum sampling interval of 1.22 hours in HF2010_1010_08L0036"
     ]
    },
    {
     "output_type": "stream",
     "name": "stderr",
     "text": [
      "Minimum sampling interval of 19.4 minutes in HF2010_1017_10A0224"
     ]
    },
    {
     "output_type": "stream",
     "name": "stderr",
     "text": [
      "Minimum sampling interval of 36.2 minutes in HF2010_2006_09A0899"
     ]
    },
    {
     "output_type": "stream",
     "name": "stderr",
     "text": [
      "Minimum sampling interval of 53.3 minutes in HF2010_2009_08L0055"
     ]
    },
    {
     "output_type": "stream",
     "name": "stderr",
     "text": [
      "Minimum sampling interval of 17.4 minutes in HF2010_2023_10A0229"
     ]
    },
    {
     "output_type": "stream",
     "name": "stderr",
     "text": [
      "Minimum sampling interval of 19.2 minutes in HF2014_1022_13A0223"
     ]
    },
    {
     "output_type": "stream",
     "name": "stderr",
     "text": [
      "Minimum sampling interval of 2 hours in HF2007_6109_06A1350"
     ]
    }
   ],
   "source": [
    "locs_telem <- as_telem(locs_sf, out_proj = 'epsg:3571')"
   ],
   "id": "d6c4e0c2-9f22-4a2d-871a-0499df11a995"
  },
  {
   "cell_type": "code",
   "execution_count": null,
   "metadata": {},
   "outputs": [],
   "source": [
    "locs_fits <- vector(\"list\", length = nrow(locs_telem))\n",
    "\n",
    "for(i in seq_along(locs_telem$data)) {\n",
    "  guess <- ctmm.guess(locs_telem$data[[i]], interactive = FALSE)\n",
    "  locs_fits[[i]] <- ctmm.select(locs_telem$data[[i]], guess)\n",
    "}"
   ],
   "id": "3dfa5b57-4a27-46c8-8f5c-fd82b8f6e235"
  },
  {
   "cell_type": "code",
   "execution_count": null,
   "metadata": {},
   "outputs": [],
   "source": [
    "pred_times <- seq(from=hf_telem_spring$data[[1]]$timestamp[1],\n",
    "                  to=hf_telem_spring$data[[1]]$timestamp[nrow(hf_telem_spring$data[[1]])],\n",
    "                  by=15 %#% 'min')\n",
    "\n",
    "pred_track <- ctmm::predict(object = hf_fits_spring[[1]],\n",
    "                            data = hf_telem_spring$data[[1]],\n",
    "                      dt = 600)"
   ],
   "id": "2d95e5b9-4e4c-4443-bc40-e09e24f31fd8"
  },
  {
   "cell_type": "code",
   "execution_count": null,
   "metadata": {},
   "outputs": [],
   "source": [
    "hf_fits_spring <- vector(\"list\", length = nrow(hf_telem_spring))\n",
    "\n",
    "for(i in seq_along(hf_telem_spring$data)) {\n",
    "  guess <- ctmm.guess(hf_telem_spring$data[[i]], interactive = FALSE)\n",
    "  hf_fits_spring[[i]] <- ctmm.select(hf_telem_spring$data[[i]], guess, trace=3)\n",
    "}\n",
    "\n",
    "names(hf_fits_spring) <- names(hf_telem_spring$data)\n",
    "\n",
    "hf_akde_spring <- akde(hf_telem_spring$data,hf_fits_spring,weights=TRUE)\n",
    "\n",
    "hf_pkde_spring <- pkde(hf_telem_spring$data, hf_akde_spring)"
   ],
   "id": "2b3e6920-bb9f-48bd-8aeb-c26d5cfd3eda"
  },
  {
   "cell_type": "code",
   "execution_count": null,
   "metadata": {},
   "outputs": [],
   "source": [
    "hf_fits_open <- vector(\"list\", length = nrow(hf_telem_open))\n",
    "\n",
    "for(i in seq_along(hf_telem_open$data)) {\n",
    "  guess <- ctmm.guess(hf_telem_open$data[[i]], interactive = FALSE)\n",
    "  hf_fits_open[[i]] <- ctmm.select(hf_telem_open$data[[i]], guess)\n",
    "}\n",
    "\n",
    "names(hf_fits_open) <- names(hf_telem_open$data)\n",
    "\n",
    "hf_akde_open <- akde(hf_telem_open$data,hf_fits_open,weights=TRUE)\n",
    "saveRDS(hf_akde_open,here::here('data/hf_akde_open.rds'))\n",
    "\n",
    "hf_pkde_open <- pkde(hf_telem_open$data, hf_akde_open)\n",
    "saveRDS(hf_pkde_open,here::here('data/hf_pkde_open.rds'))"
   ],
   "id": "2aa98de2-e14f-48fe-bcf5-c4073eaa101a"
  },
  {
   "cell_type": "code",
   "execution_count": null,
   "metadata": {},
   "outputs": [],
   "source": [
    "pl_fits_spring <- vector(\"list\", length = nrow(pl_telem_spring))\n",
    "\n",
    "for(i in seq_along(pl_telem_spring$data)) {\n",
    "  guess <- ctmm.guess(pl_telem_spring$data[[i]], interactive = FALSE)\n",
    "  pl_fits_spring[[i]] <- ctmm.select(pl_telem_spring$data[[i]], guess, trace=3)\n",
    "}\n",
    "\n",
    "names(pl_fits_spring) <- names(pl_telem_spring$data)\n",
    "\n",
    "pl_akde_spring <- akde(pl_telem_spring$data,\n",
    "                       pl_fits_spring,\n",
    "                       weights=TRUE)\n",
    "\n",
    "pl_pkde_spring <- pkde(pl_telem_spring$data, pl_akde_spring)"
   ],
   "id": "f28c76df-0c01-4684-be1f-f0dbb1f341e2"
  },
  {
   "cell_type": "code",
   "execution_count": null,
   "metadata": {},
   "outputs": [],
   "source": [
    "pl_fits_open <- vector(\"list\", length = nrow(pl_telem_open))\n",
    "\n",
    "for(i in seq_along(pl_telem_open$data)) {\n",
    "  guess <- ctmm.guess(pl_telem_open$data[[i]], interactive = FALSE)\n",
    "  pl_fits_open[[i]] <- ctmm.select(pl_telem_open$data[[i]], guess)\n",
    "}\n",
    "\n",
    "names(pl_fits_open) <- names(pl_telem_open$data)\n",
    "\n",
    "pl_akde_open <- akde(pl_telem_open$data,pl_fits_open,weights=TRUE)\n",
    "saveRDS(pl_akde_open,here::here('data/pl_akde_open.rds'))\n",
    "\n",
    "pl_pkde_open <- pkde(pl_telem_open$data, pl_akde_open)\n",
    "saveRDS(pl_pkde_open,here::here('data/pl_pkde_open.rds'))"
   ],
   "id": "e5b1fd4e-d9fc-4033-b9b5-4a137b788218"
  },
  {
   "cell_type": "markdown",
   "metadata": {},
   "source": [
    "## Dive Behavior From Bio-logger Deployments\n",
    "\n",
    "# Results\n",
    "\n",
    "## Stable Isotope\n",
    "\n",
    "(n = 7 ribbon; n = 31 spotted)\n",
    "\n",
    "(n = 23 ribbon; n = 35 spotted)\n",
    "\n",
    "The figures below show results from the initial stable isotope analysis for pups sampled to represent adult female fall/winter foraging (figure 1) and for sub-adults and adults (figure 2) sampled to represent their foraging close to the time of sampling (spring).\n",
    "\n",
    "The plots show the values as well as a convex hull and an ellipse which represents the 95% confidence interval around the bivariate mean."
   ],
   "id": "fef01cec-0807-49c4-b918-5549c36376a6"
  },
  {
   "cell_type": "code",
   "execution_count": null,
   "metadata": {},
   "outputs": [
    {
     "output_type": "display_data",
     "metadata": {},
     "data": {}
    }
   ],
   "source": [
    "par(mfrow=c(1,1))\n",
    "plotSiberObject(pup_siber,\n",
    "                ax.pad = 1.5,\n",
    "                hulls = F, \n",
    "                ellipses = T, group.ellipses.args = group.ellipses.args,\n",
    "                group.hulls = T, group.hulls.args = group.hulls.args,\n",
    "                bty = \"L\",\n",
    "                iso.order = c(1,2),\n",
    "                xlab = expression({delta}^13*C),\n",
    "                ylab = expression({delta}^15*N)\n",
    ")\n",
    "legend(\"topright\",colnames(groupMetricsML(adult_siber)),\n",
    "       col = c(2:1,2:1), lty=1)"
   ],
   "id": "7cfa38c4-9c80-4399-a89b-62549953bf17"
  },
  {
   "cell_type": "code",
   "execution_count": null,
   "metadata": {},
   "outputs": [
    {
     "output_type": "display_data",
     "metadata": {},
     "data": {}
    }
   ],
   "source": [
    "par(mfrow=c(1,1))\n",
    "plotSiberObject(adult_siber,\n",
    "                ax.pad = 1.5,\n",
    "                hulls = F, \n",
    "                ellipses = T, group.ellipses.args = group.ellipses.args,\n",
    "                group.hulls = T, group.hulls.args = group.hulls.args,\n",
    "                bty = \"L\",\n",
    "                iso.order = c(1,2),\n",
    "                xlab = expression({delta}^13*C),\n",
    "                ylab = expression({delta}^15*N)\n",
    ")\n",
    "legend(\"topright\",colnames(groupMetricsML(adult_siber)),\n",
    "       col = c(2:1,2:1), lty=1)"
   ],
   "id": "a00c40e6-fba7-47c7-b49e-3524e6fa341c"
  }
 ],
 "nbformat": 4,
 "nbformat_minor": 5,
 "metadata": {}
}
