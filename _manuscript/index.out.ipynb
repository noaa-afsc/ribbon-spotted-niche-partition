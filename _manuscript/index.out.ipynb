{
 "cells": [
  {
   "cell_type": "markdown",
   "metadata": {},
   "source": [
    "# Evidence for ecological niche partitioning among ribbon and spotted\n",
    "\n",
    "seals in the Bering Sea and implications for their resiliency to climate change\n",
    "\n",
    "Josh M. London [![](data:image/png;base64,iVBORw0KGgoAAAANSUhEUgAAABAAAAAQCAYAAAAf8/9hAAAAGXRFWHRTb2Z0d2FyZQBBZG9iZSBJbWFnZVJlYWR5ccllPAAAA2ZpVFh0WE1MOmNvbS5hZG9iZS54bXAAAAAAADw/eHBhY2tldCBiZWdpbj0i77u/IiBpZD0iVzVNME1wQ2VoaUh6cmVTek5UY3prYzlkIj8+IDx4OnhtcG1ldGEgeG1sbnM6eD0iYWRvYmU6bnM6bWV0YS8iIHg6eG1wdGs9IkFkb2JlIFhNUCBDb3JlIDUuMC1jMDYwIDYxLjEzNDc3NywgMjAxMC8wMi8xMi0xNzozMjowMCAgICAgICAgIj4gPHJkZjpSREYgeG1sbnM6cmRmPSJodHRwOi8vd3d3LnczLm9yZy8xOTk5LzAyLzIyLXJkZi1zeW50YXgtbnMjIj4gPHJkZjpEZXNjcmlwdGlvbiByZGY6YWJvdXQ9IiIgeG1sbnM6eG1wTU09Imh0dHA6Ly9ucy5hZG9iZS5jb20veGFwLzEuMC9tbS8iIHhtbG5zOnN0UmVmPSJodHRwOi8vbnMuYWRvYmUuY29tL3hhcC8xLjAvc1R5cGUvUmVzb3VyY2VSZWYjIiB4bWxuczp4bXA9Imh0dHA6Ly9ucy5hZG9iZS5jb20veGFwLzEuMC8iIHhtcE1NOk9yaWdpbmFsRG9jdW1lbnRJRD0ieG1wLmRpZDo1N0NEMjA4MDI1MjA2ODExOTk0QzkzNTEzRjZEQTg1NyIgeG1wTU06RG9jdW1lbnRJRD0ieG1wLmRpZDozM0NDOEJGNEZGNTcxMUUxODdBOEVCODg2RjdCQ0QwOSIgeG1wTU06SW5zdGFuY2VJRD0ieG1wLmlpZDozM0NDOEJGM0ZGNTcxMUUxODdBOEVCODg2RjdCQ0QwOSIgeG1wOkNyZWF0b3JUb29sPSJBZG9iZSBQaG90b3Nob3AgQ1M1IE1hY2ludG9zaCI+IDx4bXBNTTpEZXJpdmVkRnJvbSBzdFJlZjppbnN0YW5jZUlEPSJ4bXAuaWlkOkZDN0YxMTc0MDcyMDY4MTE5NUZFRDc5MUM2MUUwNEREIiBzdFJlZjpkb2N1bWVudElEPSJ4bXAuZGlkOjU3Q0QyMDgwMjUyMDY4MTE5OTRDOTM1MTNGNkRBODU3Ii8+IDwvcmRmOkRlc2NyaXB0aW9uPiA8L3JkZjpSREY+IDwveDp4bXBtZXRhPiA8P3hwYWNrZXQgZW5kPSJyIj8+84NovQAAAR1JREFUeNpiZEADy85ZJgCpeCB2QJM6AMQLo4yOL0AWZETSqACk1gOxAQN+cAGIA4EGPQBxmJA0nwdpjjQ8xqArmczw5tMHXAaALDgP1QMxAGqzAAPxQACqh4ER6uf5MBlkm0X4EGayMfMw/Pr7Bd2gRBZogMFBrv01hisv5jLsv9nLAPIOMnjy8RDDyYctyAbFM2EJbRQw+aAWw/LzVgx7b+cwCHKqMhjJFCBLOzAR6+lXX84xnHjYyqAo5IUizkRCwIENQQckGSDGY4TVgAPEaraQr2a4/24bSuoExcJCfAEJihXkWDj3ZAKy9EJGaEo8T0QSxkjSwORsCAuDQCD+QILmD1A9kECEZgxDaEZhICIzGcIyEyOl2RkgwAAhkmC+eAm0TAAAAABJRU5ErkJggg==)](https://orcid.org/0000-0002-3647-5046) (Alaska Fisheries Science Center)  \n",
    "March 22, 2024\n",
    "\n",
    "Ecoclogial niche partitioning allows sympatric species to co-exist in space and time while reducing direct competition for resources. In deep-diving seals (*Phocidae*) such niche partitioning can be observed as temporal differentiation in overlap, two-dimensional separation in space, three-dimensional separation in the water column, and variability in isotopic space. Here, we focus on two species of phocid seals in Bering Sea of Alaska – ribbon seals (*Histriophoca fasciata*) and spotted seals (*Phoca largha*) – and evidence for niche partitioning from two decades of bio-logger deployments and sampling of stable isotopes from multiple tissue types with different intergration times."
   ],
   "id": "58fcbf99-bd63-448e-9d16-6e55d3d2a8cc"
  },
  {
   "cell_type": "code",
   "execution_count": null,
   "metadata": {},
   "outputs": [
    {
     "output_type": "stream",
     "name": "stderr",
     "text": [
      "\n",
      "Attaching package: 'dplyr'"
     ]
    },
    {
     "output_type": "stream",
     "name": "stderr",
     "text": [
      "The following objects are masked from 'package:stats':\n",
      "\n",
      "    filter, lag"
     ]
    },
    {
     "output_type": "stream",
     "name": "stderr",
     "text": [
      "The following objects are masked from 'package:base':\n",
      "\n",
      "    intersect, setdiff, setequal, union"
     ]
    },
    {
     "output_type": "stream",
     "name": "stderr",
     "text": [
      "\n",
      "Attaching package: 'dbplyr'"
     ]
    },
    {
     "output_type": "stream",
     "name": "stderr",
     "text": [
      "The following objects are masked from 'package:dplyr':\n",
      "\n",
      "    ident, sql"
     ]
    },
    {
     "output_type": "stream",
     "name": "stderr",
     "text": [
      "Linking to GEOS 3.11.0, GDAL 3.5.3, PROJ 9.1.0; sf_use_s2() is TRUE"
     ]
    },
    {
     "output_type": "stream",
     "name": "stderr",
     "text": [
      "\n",
      "Attaching package: 'ctmm'"
     ]
    },
    {
     "output_type": "stream",
     "name": "stderr",
     "text": [
      "The following object is masked from 'package:ggplot2':\n",
      "\n",
      "    annotate"
     ]
    }
   ],
   "source": [
    "library(RPostgres)\n",
    "library(dplyr)"
   ],
   "id": "4491123c-a374-49bf-9974-c2784ddefd2c"
  },
  {
   "cell_type": "markdown",
   "metadata": {},
   "source": [
    "# Introduction\n",
    "\n",
    "# Methods"
   ],
   "id": "140a4f98-1eb2-420f-87a8-1250901c9fb0"
  },
  {
   "cell_type": "code",
   "execution_count": null,
   "metadata": {},
   "outputs": [],
   "source": [
    "locs_sf <- readRDS(here::here('data/locs_sf.rds'))"
   ],
   "id": "26ef481c-2c2a-4f56-ae63-dc0c78b13937"
  },
  {
   "cell_type": "markdown",
   "metadata": {},
   "source": [
    "A total of 234 bio-loggers (SPLASH family, Wildlife Computers, Redmond, Washington, USA) were deployed on 110 ribbon seals and 82 spotted seals between 2005 and 2022. The deployments span all age classes with the exception of dependent pups for both species and were deployed during the months of April, May, and June. In some cases, deployments were initiated prior to molting and the bio-loggers fell off after a period of weeks to two months. Deployments initiated after molting transmitted up to 9 months.\n",
    "\n",
    "All deployments were checked for any data quality issues and inconsistent location estimates before they were run through a course speed filter to remove any locations that would have required a sustained swim speed greater than 25 km/h.\n",
    "\n",
    "Two data sets were created to separate movement in the months of April, May, and June from the rest of the year."
   ],
   "id": "54be5f8e-b868-48c4-b155-156e5f13b520"
  },
  {
   "cell_type": "code",
   "execution_count": null,
   "metadata": {},
   "outputs": [],
   "source": [
    "filter_tracks <- function(tracks_sf) {\n",
    "  \n",
    "  crs <- sf::st_crs(tracks_sf)\n",
    "  dat <- tracks_sf %>%\n",
    "    sf::st_transform(4326) %>%\n",
    "    ungroup() %>%\n",
    "    arrange(deployid, locs_dt)\n",
    "  dat_tr <- trip::trip(dat, c(\"locs_dt\",\"deployid\"), correct_all = FALSE)\n",
    "  \n",
    "  suppressWarnings(\n",
    "    keep <- trip::sda(\n",
    "      dat_tr,\n",
    "      smax = 25 #km/hour\n",
    "    )\n",
    "  )\n",
    "  \n",
    "  tracks_filt <- dat %>%\n",
    "    mutate(sda_keep = keep) %>%\n",
    "    filter(sda_keep) %>%\n",
    "    dplyr::select(-c(sda_keep, rank)) %>%\n",
    "    st_transform(crs)\n",
    "  return(tracks_filt)\n",
    "}\n",
    "\n",
    "locs_sf <- locs_sf |> \n",
    "  filter_tracks()\n",
    "\n",
    "locs_sf_spring <- locs_sf |> \n",
    "  dplyr::filter(tag_type %in% c('SPLA','SGPS')) |> \n",
    "  dplyr::filter(lubridate::month(locs_dt) %in% c(3,4,5)) |> \n",
    "  dplyr::arrange(deployid,locs_dt) \n",
    "\n",
    "locs_sf_open_water <- locs_sf |> \n",
    "  dplyr::filter(tag_type %in% c('SPLA','SGPS')) |> \n",
    "  dplyr::filter(!lubridate::month(locs_dt) %in% c(3,4,5)) |> \n",
    "  dplyr::arrange(deployid,locs_dt) "
   ],
   "id": "96e2d1a2-0277-465d-8ef5-afd674d88c02"
  },
  {
   "cell_type": "markdown",
   "metadata": {},
   "source": [
    "Utilization distributions were estimated for each species and each of the seasonal periods based on a continuous time movement model (R package `ctmm`). Specifically, optimally weighted auto-correlated kernel density estimates (wAKDE) were created to reflect a more honest account of space use while also mitigating sampling bias from irregular deployment lengths."
   ],
   "id": "9d9697c6-ab31-4f2e-af2d-4ff3016151eb"
  },
  {
   "cell_type": "code",
   "execution_count": null,
   "metadata": {},
   "outputs": [],
   "source": [
    "as_telem <- function(locs_sf, out_proj) {\n",
    "  locs_df <- locs_sf |> \n",
    "    sfheaders::sf_to_df(fill = TRUE) |> \n",
    "    rename(\n",
    "      individual.local.identifier = deployid,\n",
    "      timestamp = locs_dt,\n",
    "      location.long = x,\n",
    "      location.lat = y,\n",
    "      Argos.orientation = error_ellipse_orientation,\n",
    "      Argos.semi.minor = error_semi_minor_axis,\n",
    "      Argos.semi.major = error_semi_major_axis,\n",
    "      Argos.location.class = quality\n",
    "    )\n",
    "  locs_df <- ctmm::as.telemetry(\n",
    "    object = locs_df, \n",
    "    projection = out_proj)\n",
    "\n",
    "  return(locs_df)\n",
    "}"
   ],
   "id": "07073524-c4a3-4c40-8d76-50e8b9cb28b6"
  },
  {
   "cell_type": "code",
   "execution_count": null,
   "metadata": {},
   "outputs": [
    {
     "output_type": "stream",
     "name": "stderr",
     "text": [
      "3383 ARGOS error ellipses missing. Using location class estimates from Vincent et al (2002)."
     ]
    },
    {
     "output_type": "stream",
     "name": "stderr",
     "text": [
      "Minimum sampling interval of 2 seconds in PL2005_5966_05L0002"
     ]
    },
    {
     "output_type": "stream",
     "name": "stderr",
     "text": [
      "Minimum sampling interval of 45 seconds in PL2005_5969_04L0021"
     ]
    },
    {
     "output_type": "stream",
     "name": "stderr",
     "text": [
      "Minimum sampling interval of 1.93 minutes in PL2005_5971_05L0017"
     ]
    },
    {
     "output_type": "stream",
     "name": "stderr",
     "text": [
      "Minimum sampling interval of 54 seconds in PL2006_5976_05L0245"
     ]
    },
    {
     "output_type": "stream",
     "name": "stderr",
     "text": [
      "Minimum sampling interval of 6 seconds in PL2006_5990_05L0244"
     ]
    },
    {
     "output_type": "stream",
     "name": "stderr",
     "text": [
      "Minimum sampling interval of 15 seconds in PL2007_6040_07L0019"
     ]
    },
    {
     "output_type": "stream",
     "name": "stderr",
     "text": [
      "Minimum sampling interval of 3.75 minutes in PL2007_6042_07L0016"
     ]
    },
    {
     "output_type": "stream",
     "name": "stderr",
     "text": [
      "Minimum sampling interval of 22 seconds in PL2009_1025_09L0045"
     ]
    },
    {
     "output_type": "stream",
     "name": "stderr",
     "text": [
      "Minimum sampling interval of 44 seconds in PL2009_2002_06L0124"
     ]
    },
    {
     "output_type": "stream",
     "name": "stderr",
     "text": [
      "Minimum sampling interval of 2 seconds in PL2009_2003_08L0035"
     ]
    },
    {
     "output_type": "stream",
     "name": "stderr",
     "text": [
      "Minimum sampling interval of 33 seconds in PL2009_2004_08L0033"
     ]
    },
    {
     "output_type": "stream",
     "name": "stderr",
     "text": [
      "Minimum sampling interval of 27 seconds in PL2009_2005_06L0126"
     ]
    },
    {
     "output_type": "stream",
     "name": "stderr",
     "text": [
      "Minimum sampling interval of 1.33 minutes in PL2009_2006_08L0046"
     ]
    },
    {
     "output_type": "stream",
     "name": "stderr",
     "text": [
      "Minimum sampling interval of 30 seconds in PL2009_2016_08L0039"
     ]
    },
    {
     "output_type": "stream",
     "name": "stderr",
     "text": [
      "Minimum sampling interval of 3.45 minutes in PL2009_2019_08L0050"
     ]
    },
    {
     "output_type": "stream",
     "name": "stderr",
     "text": [
      "Minimum sampling interval of 1.72 minutes in PL2009_2020_08L0030"
     ]
    },
    {
     "output_type": "stream",
     "name": "stderr",
     "text": [
      "Minimum sampling interval of 4 seconds in PL2009_2033_07L0013"
     ]
    },
    {
     "output_type": "stream",
     "name": "stderr",
     "text": [
      "Minimum sampling interval of 2 seconds in PL2009_2038_08L0053"
     ]
    },
    {
     "output_type": "stream",
     "name": "stderr",
     "text": [
      "Minimum sampling interval of 7 seconds in PL2010_1002_08L0029"
     ]
    },
    {
     "output_type": "stream",
     "name": "stderr",
     "text": [
      "Minimum sampling interval of 7 seconds in PL2010_1003_08L0128"
     ]
    },
    {
     "output_type": "stream",
     "name": "stderr",
     "text": [
      "Minimum sampling interval of 6 seconds in PL2010_2002_08L0052"
     ]
    },
    {
     "output_type": "stream",
     "name": "stderr",
     "text": [
      "Minimum sampling interval of 35 seconds in PL2010_2004_08L0044"
     ]
    },
    {
     "output_type": "stream",
     "name": "stderr",
     "text": [
      "Minimum sampling interval of 6 seconds in PL2010_2005_08L0026"
     ]
    },
    {
     "output_type": "stream",
     "name": "stderr",
     "text": [
      "Minimum sampling interval of 1 seconds in PL2010_2021_10A0192"
     ]
    },
    {
     "output_type": "stream",
     "name": "stderr",
     "text": [
      "Minimum sampling interval of 1 seconds in PL2014_1017_10A0554"
     ]
    },
    {
     "output_type": "stream",
     "name": "stderr",
     "text": [
      "Minimum sampling interval of 7 seconds in PL2014_1019_10A0201"
     ]
    },
    {
     "output_type": "stream",
     "name": "stderr",
     "text": [
      "Minimum sampling interval of 17 seconds in PL2014_1020_10A0195"
     ]
    },
    {
     "output_type": "stream",
     "name": "stderr",
     "text": [
      "Minimum sampling interval of 1 seconds in PL2014_1027_10A0598"
     ]
    },
    {
     "output_type": "stream",
     "name": "stderr",
     "text": [
      "Minimum sampling interval of 1 seconds in PL2014_1028_10A0196"
     ]
    },
    {
     "output_type": "stream",
     "name": "stderr",
     "text": [
      "Minimum sampling interval of 45 seconds in PL2016_1001_14A0844"
     ]
    },
    {
     "output_type": "stream",
     "name": "stderr",
     "text": [
      "Minimum sampling interval of 1 seconds in PL2016_1003_14A0797"
     ]
    },
    {
     "output_type": "stream",
     "name": "stderr",
     "text": [
      "Minimum sampling interval of 21 seconds in PL2016_1004_14A0847"
     ]
    },
    {
     "output_type": "stream",
     "name": "stderr",
     "text": [
      "Minimum sampling interval of 2 seconds in PL2016_1007_14A0824"
     ]
    },
    {
     "output_type": "stream",
     "name": "stderr",
     "text": [
      "Minimum sampling interval of 2 seconds in PL2016_1016_14A0832"
     ]
    },
    {
     "output_type": "stream",
     "name": "stderr",
     "text": [
      "Minimum sampling interval of 23 seconds in PL2016_1021_14A0781"
     ]
    },
    {
     "output_type": "stream",
     "name": "stderr",
     "text": [
      "Minimum sampling interval of 29 seconds in PL2016_9002_15U2975"
     ]
    },
    {
     "output_type": "stream",
     "name": "stderr",
     "text": [
      "Minimum sampling interval of 2.85 minutes in PL2016_9003_15U2869"
     ]
    },
    {
     "output_type": "stream",
     "name": "stderr",
     "text": [
      "Minimum sampling interval of 1 seconds in PL2018_1002_17A0776"
     ]
    },
    {
     "output_type": "stream",
     "name": "stderr",
     "text": [
      "Minimum sampling interval of 3 seconds in PL2018_1009_17A0775"
     ]
    },
    {
     "output_type": "stream",
     "name": "stderr",
     "text": [
      "Minimum sampling interval of 1 seconds in PL2018_1016_17A0780"
     ]
    },
    {
     "output_type": "stream",
     "name": "stderr",
     "text": [
      "Minimum sampling interval of 1 seconds in PL2018_1022_17A0976"
     ]
    },
    {
     "output_type": "stream",
     "name": "stderr",
     "text": [
      "Minimum sampling interval of 46 seconds in PL2018_1022_17U2916"
     ]
    },
    {
     "output_type": "stream",
     "name": "stderr",
     "text": [
      "Minimum sampling interval of 1 seconds in PL2018_1027_17A0767"
     ]
    },
    {
     "output_type": "stream",
     "name": "stderr",
     "text": [
      "Minimum sampling interval of 8 seconds in PL2022_1004_19U2507"
     ]
    },
    {
     "output_type": "stream",
     "name": "stderr",
     "text": [
      "9474 ARGOS error ellipses missing. Using location class estimates from Vincent et al (2002)."
     ]
    },
    {
     "output_type": "stream",
     "name": "stderr",
     "text": [
      "Minimum sampling interval of 1 seconds in PL2005_5966_05L0002"
     ]
    },
    {
     "output_type": "stream",
     "name": "stderr",
     "text": [
      "Minimum sampling interval of 1 seconds in PL2005_5967_05L0026"
     ]
    },
    {
     "output_type": "stream",
     "name": "stderr",
     "text": [
      "Minimum sampling interval of 1 seconds in PL2005_5968_05L0005"
     ]
    },
    {
     "output_type": "stream",
     "name": "stderr",
     "text": [
      "Minimum sampling interval of 51 seconds in PL2005_5969_04L0021"
     ]
    },
    {
     "output_type": "stream",
     "name": "stderr",
     "text": [
      "Minimum sampling interval of 1 seconds in PL2005_5971_05L0017"
     ]
    },
    {
     "output_type": "stream",
     "name": "stderr",
     "text": [
      "Minimum sampling interval of 27 seconds in PL2006_5990_05L0244"
     ]
    },
    {
     "output_type": "stream",
     "name": "stderr",
     "text": [
      "Minimum sampling interval of 4 seconds in PL2007_6040_07L0019"
     ]
    },
    {
     "output_type": "stream",
     "name": "stderr",
     "text": [
      "Minimum sampling interval of 50 seconds in PL2007_6042_07L0016"
     ]
    },
    {
     "output_type": "stream",
     "name": "stderr",
     "text": [
      "Minimum sampling interval of 1 seconds in PL2009_1020_09L0043"
     ]
    },
    {
     "output_type": "stream",
     "name": "stderr",
     "text": [
      "Minimum sampling interval of 1 seconds in PL2009_1025_09L0045"
     ]
    },
    {
     "output_type": "stream",
     "name": "stderr",
     "text": [
      "Minimum sampling interval of 11 seconds in PL2009_2002_06L0124"
     ]
    },
    {
     "output_type": "stream",
     "name": "stderr",
     "text": [
      "Minimum sampling interval of 1 seconds in PL2009_2003_08L0035"
     ]
    },
    {
     "output_type": "stream",
     "name": "stderr",
     "text": [
      "Minimum sampling interval of 7 seconds in PL2009_2004_08L0033"
     ]
    },
    {
     "output_type": "stream",
     "name": "stderr",
     "text": [
      "Minimum sampling interval of 2 seconds in PL2009_2005_06L0126"
     ]
    },
    {
     "output_type": "stream",
     "name": "stderr",
     "text": [
      "Minimum sampling interval of 1 seconds in PL2009_2006_08L0046"
     ]
    },
    {
     "output_type": "stream",
     "name": "stderr",
     "text": [
      "Minimum sampling interval of 3 seconds in PL2009_2016_08L0039"
     ]
    },
    {
     "output_type": "stream",
     "name": "stderr",
     "text": [
      "Minimum sampling interval of 13 seconds in PL2009_2019_08L0050"
     ]
    },
    {
     "output_type": "stream",
     "name": "stderr",
     "text": [
      "Minimum sampling interval of 2 seconds in PL2009_2020_08L0030"
     ]
    },
    {
     "output_type": "stream",
     "name": "stderr",
     "text": [
      "Minimum sampling interval of 5 seconds in PL2009_2033_07L0013"
     ]
    },
    {
     "output_type": "stream",
     "name": "stderr",
     "text": [
      "Minimum sampling interval of 1 seconds in PL2009_2034_08L0028"
     ]
    },
    {
     "output_type": "stream",
     "name": "stderr",
     "text": [
      "Minimum sampling interval of 1 seconds in PL2009_2038_08L0053"
     ]
    },
    {
     "output_type": "stream",
     "name": "stderr",
     "text": [
      "Minimum sampling interval of 1 seconds in PL2009_2039_08L0040"
     ]
    },
    {
     "output_type": "stream",
     "name": "stderr",
     "text": [
      "Minimum sampling interval of 3 seconds in PL2010_1002_08L0029"
     ]
    },
    {
     "output_type": "stream",
     "name": "stderr",
     "text": [
      "Minimum sampling interval of 1 seconds in PL2010_1003_08L0128"
     ]
    },
    {
     "output_type": "stream",
     "name": "stderr",
     "text": [
      "Minimum sampling interval of 1 seconds in PL2010_2002_08L0052"
     ]
    },
    {
     "output_type": "stream",
     "name": "stderr",
     "text": [
      "Minimum sampling interval of 1 seconds in PL2010_2004_08L0044"
     ]
    },
    {
     "output_type": "stream",
     "name": "stderr",
     "text": [
      "Minimum sampling interval of 2 seconds in PL2010_2005_08L0026"
     ]
    },
    {
     "output_type": "stream",
     "name": "stderr",
     "text": [
      "Minimum sampling interval of 1 seconds in PL2010_2021_10A0192"
     ]
    },
    {
     "output_type": "stream",
     "name": "stderr",
     "text": [
      "Minimum sampling interval of 1 seconds in PL2014_1017_10A0554"
     ]
    },
    {
     "output_type": "stream",
     "name": "stderr",
     "text": [
      "Minimum sampling interval of 1 seconds in PL2014_1019_10A0201"
     ]
    },
    {
     "output_type": "stream",
     "name": "stderr",
     "text": [
      "Minimum sampling interval of 2 seconds in PL2014_1020_10A0195"
     ]
    },
    {
     "output_type": "stream",
     "name": "stderr",
     "text": [
      "Minimum sampling interval of 1 seconds in PL2014_1027_10A0598"
     ]
    },
    {
     "output_type": "stream",
     "name": "stderr",
     "text": [
      "Minimum sampling interval of 15 seconds in PL2014_1028_10A0196"
     ]
    },
    {
     "output_type": "stream",
     "name": "stderr",
     "text": [
      "Minimum sampling interval of 4.13 minutes in PL2016_9001_15U2968"
     ]
    },
    {
     "output_type": "stream",
     "name": "stderr",
     "text": [
      "Minimum sampling interval of 44 seconds in PL2016_9002_15U2975"
     ]
    },
    {
     "output_type": "stream",
     "name": "stderr",
     "text": [
      "Minimum sampling interval of 43 seconds in PL2016_9003_15U2869"
     ]
    },
    {
     "output_type": "stream",
     "name": "stderr",
     "text": [
      "Minimum sampling interval of 43 seconds in PL2017_9002_16U2115"
     ]
    },
    {
     "output_type": "stream",
     "name": "stderr",
     "text": [
      "Minimum sampling interval of 1.48 minutes in PL2017_9003_15U2972"
     ]
    },
    {
     "output_type": "stream",
     "name": "stderr",
     "text": [
      "Minimum sampling interval of 8 seconds in PL2018_1002_17A0776"
     ]
    },
    {
     "output_type": "stream",
     "name": "stderr",
     "text": [
      "Minimum sampling interval of 47 seconds in PL2018_1022_17U2916"
     ]
    },
    {
     "output_type": "stream",
     "name": "stderr",
     "text": [
      "Minimum sampling interval of 1 seconds in PL2018_1027_17A0767"
     ]
    },
    {
     "output_type": "stream",
     "name": "stderr",
     "text": [
      "1978 ARGOS error ellipses missing. Using location class estimates from Vincent et al (2002)."
     ]
    },
    {
     "output_type": "stream",
     "name": "stderr",
     "text": [
      "Minimum sampling interval of 44 seconds in HF2005_5880_05L0003"
     ]
    },
    {
     "output_type": "stream",
     "name": "stderr",
     "text": [
      "Minimum sampling interval of 1.55 minutes in HF2005_5882_05L0008"
     ]
    },
    {
     "output_type": "stream",
     "name": "stderr",
     "text": [
      "Minimum sampling interval of 43 seconds in HF2005_5890_05L0011"
     ]
    },
    {
     "output_type": "stream",
     "name": "stderr",
     "text": [
      "Minimum sampling interval of 46 seconds in HF2005_5896_05L0015"
     ]
    },
    {
     "output_type": "stream",
     "name": "stderr",
     "text": [
      "Minimum sampling interval of 43 seconds in HF2005_5898_05L0001"
     ]
    },
    {
     "output_type": "stream",
     "name": "stderr",
     "text": [
      "Minimum sampling interval of 1.95 minutes in HF2006_5978_05L0236"
     ]
    },
    {
     "output_type": "stream",
     "name": "stderr",
     "text": [
      "Minimum sampling interval of 1.5 minutes in HF2006_5982_05L0238"
     ]
    },
    {
     "output_type": "stream",
     "name": "stderr",
     "text": [
      "Minimum sampling interval of 44 seconds in HF2006_5989_05L0237"
     ]
    },
    {
     "output_type": "stream",
     "name": "stderr",
     "text": [
      "Minimum sampling interval of 1.47 minutes in HF2007_6048_05L0240"
     ]
    },
    {
     "output_type": "stream",
     "name": "stderr",
     "text": [
      "Minimum sampling interval of 6.82 minutes in HF2007_6066_05L0243"
     ]
    },
    {
     "output_type": "stream",
     "name": "stderr",
     "text": [
      "Minimum sampling interval of 4.35 minutes in HF2007_6068_05L0239"
     ]
    },
    {
     "output_type": "stream",
     "name": "stderr",
     "text": [
      "Minimum sampling interval of 43 seconds in HF2007_6075_06L0130"
     ]
    },
    {
     "output_type": "stream",
     "name": "stderr",
     "text": [
      "Minimum sampling interval of 6 seconds in HF2007_6089_07L0017"
     ]
    },
    {
     "output_type": "stream",
     "name": "stderr",
     "text": [
      "Minimum sampling interval of 1.57 minutes in HF2007_6102_07L0015"
     ]
    },
    {
     "output_type": "stream",
     "name": "stderr",
     "text": [
      "Minimum sampling interval of 26 seconds in HF2007_6109_06A1350"
     ]
    },
    {
     "output_type": "stream",
     "name": "stderr",
     "text": [
      "Minimum sampling interval of 3.67 minutes in HF2007_6110_06L0131"
     ]
    },
    {
     "output_type": "stream",
     "name": "stderr",
     "text": [
      "Minimum sampling interval of 1.52 minutes in HF2009_1009_06L0127"
     ]
    },
    {
     "output_type": "stream",
     "name": "stderr",
     "text": [
      "Minimum sampling interval of 8 seconds in HF2009_1019_09L0040"
     ]
    },
    {
     "output_type": "stream",
     "name": "stderr",
     "text": [
      "Minimum sampling interval of 46 seconds in HF2009_2009_08L0051"
     ]
    },
    {
     "output_type": "stream",
     "name": "stderr",
     "text": [
      "Minimum sampling interval of 15 seconds in HF2009_2012_09L0047"
     ]
    },
    {
     "output_type": "stream",
     "name": "stderr",
     "text": [
      "Minimum sampling interval of 4 minutes in HF2009_2017_09L0050"
     ]
    },
    {
     "output_type": "stream",
     "name": "stderr",
     "text": [
      "Minimum sampling interval of 45 seconds in HF2009_2018_09L0042"
     ]
    },
    {
     "output_type": "stream",
     "name": "stderr",
     "text": [
      "Minimum sampling interval of 14 seconds in HF2009_2022_09L0044"
     ]
    },
    {
     "output_type": "stream",
     "name": "stderr",
     "text": [
      "Minimum sampling interval of 18 seconds in HF2009_2029_08L0056"
     ]
    },
    {
     "output_type": "stream",
     "name": "stderr",
     "text": [
      "Minimum sampling interval of 1.43 minutes in HF2009_2030_07L0173"
     ]
    },
    {
     "output_type": "stream",
     "name": "stderr",
     "text": [
      "Minimum sampling interval of 45 seconds in HF2010_1001_08L0048"
     ]
    },
    {
     "output_type": "stream",
     "name": "stderr",
     "text": [
      "Minimum sampling interval of 2.08 minutes in HF2010_1007_06L0129"
     ]
    },
    {
     "output_type": "stream",
     "name": "stderr",
     "text": [
      "Minimum sampling interval of 23 seconds in HF2010_1010_08L0036"
     ]
    },
    {
     "output_type": "stream",
     "name": "stderr",
     "text": [
      "Minimum sampling interval of 3.33 minutes in HF2010_1017_10A0224"
     ]
    },
    {
     "output_type": "stream",
     "name": "stderr",
     "text": [
      "Minimum sampling interval of 15 seconds in HF2010_2001_09L0041"
     ]
    },
    {
     "output_type": "stream",
     "name": "stderr",
     "text": [
      "Minimum sampling interval of 15 seconds in HF2010_2006_09A0899"
     ]
    },
    {
     "output_type": "stream",
     "name": "stderr",
     "text": [
      "Minimum sampling interval of 35 seconds in HF2010_2007_08L0054"
     ]
    },
    {
     "output_type": "stream",
     "name": "stderr",
     "text": [
      "Minimum sampling interval of 44 seconds in HF2010_2009_08L0055"
     ]
    },
    {
     "output_type": "stream",
     "name": "stderr",
     "text": [
      "Minimum sampling interval of 2.25 minutes in HF2010_2011_10A0249"
     ]
    },
    {
     "output_type": "stream",
     "name": "stderr",
     "text": [
      "Minimum sampling interval of 3 seconds in HF2010_2015_10A0217"
     ]
    },
    {
     "output_type": "stream",
     "name": "stderr",
     "text": [
      "Minimum sampling interval of 25 seconds in HF2010_2023_10A0229"
     ]
    },
    {
     "output_type": "stream",
     "name": "stderr",
     "text": [
      "Minimum sampling interval of 22 seconds in HF2014_1001_09A0892"
     ]
    },
    {
     "output_type": "stream",
     "name": "stderr",
     "text": [
      "Minimum sampling interval of 9 seconds in HF2014_1003_10A0551"
     ]
    },
    {
     "output_type": "stream",
     "name": "stderr",
     "text": [
      "Minimum sampling interval of 15 seconds in HF2014_1005_10A0228"
     ]
    },
    {
     "output_type": "stream",
     "name": "stderr",
     "text": [
      "Minimum sampling interval of 21 seconds in HF2014_1007_10A0234"
     ]
    },
    {
     "output_type": "stream",
     "name": "stderr",
     "text": [
      "Minimum sampling interval of 15 seconds in HF2014_1008_10A0230"
     ]
    },
    {
     "output_type": "stream",
     "name": "stderr",
     "text": [
      "Minimum sampling interval of 44 seconds in HF2014_1011_10A0550"
     ]
    },
    {
     "output_type": "stream",
     "name": "stderr",
     "text": [
      "Minimum sampling interval of 22 seconds in HF2014_1013_09A0894"
     ]
    },
    {
     "output_type": "stream",
     "name": "stderr",
     "text": [
      "Minimum sampling interval of 15 seconds in HF2014_1015_10A0220"
     ]
    },
    {
     "output_type": "stream",
     "name": "stderr",
     "text": [
      "Minimum sampling interval of 15 seconds in HF2014_1018_10A0226"
     ]
    },
    {
     "output_type": "stream",
     "name": "stderr",
     "text": [
      "Minimum sampling interval of 11 seconds in HF2014_1022_13A0223"
     ]
    },
    {
     "output_type": "stream",
     "name": "stderr",
     "text": [
      "Minimum sampling interval of 23 seconds in HF2014_1023_09A0896"
     ]
    },
    {
     "output_type": "stream",
     "name": "stderr",
     "text": [
      "Minimum sampling interval of 15 seconds in HF2014_1025_09A0888"
     ]
    },
    {
     "output_type": "stream",
     "name": "stderr",
     "text": [
      "Minimum sampling interval of 22 seconds in HF2016_1002_14A0839"
     ]
    },
    {
     "output_type": "stream",
     "name": "stderr",
     "text": [
      "Minimum sampling interval of 2.97 minutes in HF2016_1009_14A0860"
     ]
    },
    {
     "output_type": "stream",
     "name": "stderr",
     "text": [
      "Minimum sampling interval of 22 seconds in HF2016_1011_14A0707"
     ]
    },
    {
     "output_type": "stream",
     "name": "stderr",
     "text": [
      "Minimum sampling interval of 15 seconds in HF2016_1013_14A0842"
     ]
    },
    {
     "output_type": "stream",
     "name": "stderr",
     "text": [
      "Minimum sampling interval of 5 seconds in HF2016_1018_14A0801"
     ]
    },
    {
     "output_type": "stream",
     "name": "stderr",
     "text": [
      "Minimum sampling interval of 1 seconds in HF2016_1019_14A0862"
     ]
    },
    {
     "output_type": "stream",
     "name": "stderr",
     "text": [
      "Minimum sampling interval of 4 seconds in HF2022_1005_19U3070"
     ]
    },
    {
     "output_type": "stream",
     "name": "stderr",
     "text": [
      "4281 ARGOS error ellipses missing. Using location class estimates from Vincent et al (2002)."
     ]
    },
    {
     "output_type": "stream",
     "name": "stderr",
     "text": [
      "Minimum sampling interval of 4.4 minutes in HF2005_5880_05L0003"
     ]
    },
    {
     "output_type": "stream",
     "name": "stderr",
     "text": [
      "Minimum sampling interval of 9 seconds in HF2005_5882_05L0008"
     ]
    },
    {
     "output_type": "stream",
     "name": "stderr",
     "text": [
      "Minimum sampling interval of 24 seconds in HF2005_5884_05L0009"
     ]
    },
    {
     "output_type": "stream",
     "name": "stderr",
     "text": [
      "Minimum sampling interval of 46.5 minutes in HF2005_5886_05L0014"
     ]
    },
    {
     "output_type": "stream",
     "name": "stderr",
     "text": [
      "Minimum sampling interval of 2.03 minutes in HF2005_5888_05L0010"
     ]
    },
    {
     "output_type": "stream",
     "name": "stderr",
     "text": [
      "Minimum sampling interval of 27 seconds in HF2005_5890_05L0011"
     ]
    },
    {
     "output_type": "stream",
     "name": "stderr",
     "text": [
      "Minimum sampling interval of 1.47 minutes in HF2005_5892_05L0012"
     ]
    },
    {
     "output_type": "stream",
     "name": "stderr",
     "text": [
      "Minimum sampling interval of 1.65 minutes in HF2005_5894_05L0013"
     ]
    },
    {
     "output_type": "stream",
     "name": "stderr",
     "text": [
      "Minimum sampling interval of 12 seconds in HF2005_5896_05L0015"
     ]
    },
    {
     "output_type": "stream",
     "name": "stderr",
     "text": [
      "Minimum sampling interval of 2.15 minutes in HF2005_5898_05L0001"
     ]
    },
    {
     "output_type": "stream",
     "name": "stderr",
     "text": [
      "Minimum sampling interval of 44 seconds in HF2006_5978_05L0236"
     ]
    },
    {
     "output_type": "stream",
     "name": "stderr",
     "text": [
      "Minimum sampling interval of 44 seconds in HF2007_6048_05L0240"
     ]
    },
    {
     "output_type": "stream",
     "name": "stderr",
     "text": [
      "Minimum sampling interval of 1.52 minutes in HF2007_6066_05L0243"
     ]
    },
    {
     "output_type": "stream",
     "name": "stderr",
     "text": [
      "Minimum sampling interval of 38 seconds in HF2007_6068_05L0239"
     ]
    },
    {
     "output_type": "stream",
     "name": "stderr",
     "text": [
      "Minimum sampling interval of 4.35 minutes in HF2007_6075_06L0130"
     ]
    },
    {
     "output_type": "stream",
     "name": "stderr",
     "text": [
      "Minimum sampling interval of 45 seconds in HF2007_6089_07L0017"
     ]
    },
    {
     "output_type": "stream",
     "name": "stderr",
     "text": [
      "Minimum sampling interval of 2.95 minutes in HF2007_6102_07L0015"
     ]
    },
    {
     "output_type": "stream",
     "name": "stderr",
     "text": [
      "Minimum sampling interval of 50 seconds in HF2007_6109_06A1350"
     ]
    },
    {
     "output_type": "stream",
     "name": "stderr",
     "text": [
      "Minimum sampling interval of 27 seconds in HF2007_6110_06L0131"
     ]
    },
    {
     "output_type": "stream",
     "name": "stderr",
     "text": [
      "Minimum sampling interval of 15 seconds in HF2009_1009_06L0127"
     ]
    },
    {
     "output_type": "stream",
     "name": "stderr",
     "text": [
      "Minimum sampling interval of 23 seconds in HF2009_1016_09L0048"
     ]
    },
    {
     "output_type": "stream",
     "name": "stderr",
     "text": [
      "Minimum sampling interval of 45 seconds in HF2009_1017_08L0049"
     ]
    },
    {
     "output_type": "stream",
     "name": "stderr",
     "text": [
      "Minimum sampling interval of 2 seconds in HF2009_1018_08L0034"
     ]
    },
    {
     "output_type": "stream",
     "name": "stderr",
     "text": [
      "Minimum sampling interval of 1 seconds in HF2009_1019_09L0040"
     ]
    },
    {
     "output_type": "stream",
     "name": "stderr",
     "text": [
      "Minimum sampling interval of 21 seconds in HF2009_1026_09L0028"
     ]
    },
    {
     "output_type": "stream",
     "name": "stderr",
     "text": [
      "Minimum sampling interval of 46 seconds in HF2009_2009_08L0051"
     ]
    },
    {
     "output_type": "stream",
     "name": "stderr",
     "text": [
      "Minimum sampling interval of 4 seconds in HF2009_2012_09L0047"
     ]
    },
    {
     "output_type": "stream",
     "name": "stderr",
     "text": [
      "Minimum sampling interval of 45 seconds in HF2009_2017_09L0050"
     ]
    },
    {
     "output_type": "stream",
     "name": "stderr",
     "text": [
      "Minimum sampling interval of 15 seconds in HF2009_2018_09L0042"
     ]
    },
    {
     "output_type": "stream",
     "name": "stderr",
     "text": [
      "Minimum sampling interval of 43 seconds in HF2009_2022_09L0044"
     ]
    },
    {
     "output_type": "stream",
     "name": "stderr",
     "text": [
      "Minimum sampling interval of 8 seconds in HF2009_2023_08L0032"
     ]
    },
    {
     "output_type": "stream",
     "name": "stderr",
     "text": [
      "Minimum sampling interval of 15 seconds in HF2009_2024_06L0125"
     ]
    },
    {
     "output_type": "stream",
     "name": "stderr",
     "text": [
      "Minimum sampling interval of 11 seconds in HF2009_2025_09L0051"
     ]
    },
    {
     "output_type": "stream",
     "name": "stderr",
     "text": [
      "Minimum sampling interval of 2 seconds in HF2009_2026_08L0042"
     ]
    },
    {
     "output_type": "stream",
     "name": "stderr",
     "text": [
      "Minimum sampling interval of 1.55 minutes in HF2009_2027_08L0031"
     ]
    },
    {
     "output_type": "stream",
     "name": "stderr",
     "text": [
      "Minimum sampling interval of 1 seconds in HF2009_2028_09L0030"
     ]
    },
    {
     "output_type": "stream",
     "name": "stderr",
     "text": [
      "Minimum sampling interval of 1.25 minutes in HF2009_2029_08L0056"
     ]
    },
    {
     "output_type": "stream",
     "name": "stderr",
     "text": [
      "Minimum sampling interval of 1 seconds in HF2009_2030_07L0173"
     ]
    },
    {
     "output_type": "stream",
     "name": "stderr",
     "text": [
      "Minimum sampling interval of 1 seconds in HF2009_2035_08L0047"
     ]
    },
    {
     "output_type": "stream",
     "name": "stderr",
     "text": [
      "Minimum sampling interval of 33 seconds in HF2009_2037_08L0024"
     ]
    },
    {
     "output_type": "stream",
     "name": "stderr",
     "text": [
      "Minimum sampling interval of 21 seconds in HF2009_2041_08L0045"
     ]
    },
    {
     "output_type": "stream",
     "name": "stderr",
     "text": [
      "Minimum sampling interval of 45 seconds in HF2010_1010_08L0036"
     ]
    },
    {
     "output_type": "stream",
     "name": "stderr",
     "text": [
      "Minimum sampling interval of 17 seconds in HF2010_1017_10A0224"
     ]
    },
    {
     "output_type": "stream",
     "name": "stderr",
     "text": [
      "Minimum sampling interval of 18.8 minutes in HF2010_2001_09L0041"
     ]
    },
    {
     "output_type": "stream",
     "name": "stderr",
     "text": [
      "Minimum sampling interval of 1 seconds in HF2010_2006_09A0899"
     ]
    },
    {
     "output_type": "stream",
     "name": "stderr",
     "text": [
      "Minimum sampling interval of 16 minutes in HF2010_2007_08L0054"
     ]
    },
    {
     "output_type": "stream",
     "name": "stderr",
     "text": [
      "Minimum sampling interval of 25 seconds in HF2010_2009_08L0055"
     ]
    },
    {
     "output_type": "stream",
     "name": "stderr",
     "text": [
      "Minimum sampling interval of 17 seconds in HF2010_2015_10A0217"
     ]
    },
    {
     "output_type": "stream",
     "name": "stderr",
     "text": [
      "Minimum sampling interval of 18 seconds in HF2010_2023_10A0229"
     ]
    },
    {
     "output_type": "stream",
     "name": "stderr",
     "text": [
      "Minimum sampling interval of 22 seconds in HF2014_1022_13A0223"
     ]
    },
    {
     "output_type": "stream",
     "name": "stderr",
     "text": [
      "Minimum sampling interval of 2 seconds in HF2022_1005_19U3070"
     ]
    }
   ],
   "source": [
    "pl_telem_spring <- as_telem(locs_sf_spring |> \n",
    "                              dplyr::filter(species == 'Spotted seal'),\n",
    "                            out_proj = 'epsg:3571'\n",
    "                            )"
   ],
   "id": "a5c3af17-489e-4eff-b88b-dd2c3b82b750"
  },
  {
   "cell_type": "code",
   "execution_count": null,
   "metadata": {},
   "outputs": [],
   "source": [
    "GUESS <- map(pl_telem_spring, ctmm.guess, interactive = FALSE)"
   ],
   "id": "766592cc-4edd-4a1d-bfce-864089c2e89e"
  }
 ],
 "nbformat": 4,
 "nbformat_minor": 5,
 "metadata": {}
}
